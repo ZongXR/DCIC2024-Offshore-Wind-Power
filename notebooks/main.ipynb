{
 "cells": [
  {
   "cell_type": "markdown",
   "metadata": {},
   "source": [
    "<h2>导入包</h2>"
   ]
  },
  {
   "cell_type": "code",
   "execution_count": 33,
   "metadata": {
    "ExecuteTime": {
     "end_time": "2024-03-10T11:35:45.822636Z",
     "start_time": "2024-03-10T11:35:45.819638Z"
    }
   },
   "outputs": [],
   "source": [
    "import logging \n",
    "from datetime import datetime\n",
    "import pandas as pd\n",
    "import numpy as np\n",
    "from sklearn.metrics import mean_squared_error as mse\n",
    "from sklearn.model_selection import StratifiedKFold, KFold\n",
    "from sklearn.preprocessing import OneHotEncoder\n",
    "from matplotlib.pyplot import plot, show, title\n",
    "import lightgbm as lgb\n",
    "from lightgbm import Dataset\n",
    "\n",
    "\n",
    "logging.basicConfig(format='%(asctime)s : %(levelname)s : %(message)s', level=logging.INFO)"
   ]
  },
  {
   "cell_type": "markdown",
   "metadata": {},
   "source": [
    "<h2>读取数据</h2>"
   ]
  },
  {
   "cell_type": "code",
   "execution_count": 34,
   "metadata": {
    "ExecuteTime": {
     "end_time": "2024-03-10T11:35:46.238636Z",
     "start_time": "2024-03-10T11:35:45.824638Z"
    }
   },
   "outputs": [],
   "source": [
    "df_train = pd.read_csv('../data/A榜-训练集_海上风电预测_气象变量及实际功率数据.csv', encoding='gbk')\n",
    "df_test = pd.read_csv('../data/A榜-测试集_海上风电预测_气象变量数据.csv', encoding='gbk')\n",
    "\n",
    "add_df = pd.read_csv('../data/A榜-训练集_海上风电预测_基本信息.csv', encoding='gbk')\n",
    "# add_df = pd.read_csv('../data/A榜-训练集_海上风电预测_基本信息.csv')"
   ]
  },
  {
   "cell_type": "code",
   "execution_count": 35,
   "metadata": {
    "ExecuteTime": {
     "end_time": "2024-03-10T11:35:46.254650Z",
     "start_time": "2024-03-10T11:35:46.240636Z"
    }
   },
   "outputs": [
    {
     "name": "stderr",
     "output_type": "stream",
     "text": [
      "2024-03-10 19:35:46,240 : INFO : Index(['站点编号', '时间', '气压(Pa）', '相对湿度（%）', '云量', '10米风速（10m/s）', '10米风向（°)',\n",
      "       '温度（K）', '辐照强度（J/m2）', '降水（m）', '100m风速（100m/s）', '100m风向（°)'],\n",
      "      dtype='object')\n"
     ]
    }
   ],
   "source": [
    "logging.info(df_test.columns)"
   ]
  },
  {
   "cell_type": "markdown",
   "metadata": {},
   "source": [
    "<h2>特征工程</h2>"
   ]
  },
  {
   "cell_type": "markdown",
   "metadata": {},
   "source": [
    "<h3>合并数据</h3>"
   ]
  },
  {
   "cell_type": "code",
   "execution_count": 36,
   "metadata": {
    "ExecuteTime": {
     "end_time": "2024-03-10T11:35:46.382650Z",
     "start_time": "2024-03-10T11:35:46.256652Z"
    }
   },
   "outputs": [],
   "source": [
    "df = pd.concat([df_train, df_test])\n",
    "df = df.merge(add_df[['站点编号', '装机容量(MW)']], on='站点编号', how='left')\n",
    "\n",
    "df[\"站点编号_\"] = df[\"站点编号\"].copy()\n",
    "df = pd.get_dummies(df, columns=[\"站点编号_\"], prefix_sep=\"\")"
   ]
  },
  {
   "cell_type": "markdown",
   "metadata": {},
   "source": [
    "<h3>处理空值</h3>"
   ]
  },
  {
   "cell_type": "code",
   "execution_count": 37,
   "metadata": {
    "ExecuteTime": {
     "end_time": "2024-03-10T11:35:46.413652Z",
     "start_time": "2024-03-10T11:35:46.383650Z"
    }
   },
   "outputs": [],
   "source": [
    "df = df.replace(\"<NULL>\", np.nan)"
   ]
  },
  {
   "cell_type": "markdown",
   "metadata": {},
   "source": [
    "<h3>时间特征</h3>"
   ]
  },
  {
   "cell_type": "code",
   "execution_count": 38,
   "metadata": {
    "ExecuteTime": {
     "end_time": "2024-03-10T11:35:46.586873Z",
     "start_time": "2024-03-10T11:35:46.414650Z"
    }
   },
   "outputs": [],
   "source": [
    "df['time'] = pd.to_datetime(df['时间'])\n",
    "df['hour'] = df['time'].dt.hour\n",
    "df['month'] = df['time'].dt.month\n",
    "df[\"day\"] = df[\"time\"].dt.day\n",
    "df['minute'] = (df['time'].dt.minute + df[\"time\"].dt.hour * 60) // 15"
   ]
  },
  {
   "cell_type": "markdown",
   "metadata": {},
   "source": [
    "<h3>标签标准化</h3>"
   ]
  },
  {
   "cell_type": "code",
   "execution_count": 39,
   "metadata": {
    "ExecuteTime": {
     "end_time": "2024-03-10T11:35:46.634309Z",
     "start_time": "2024-03-10T11:35:46.587875Z"
    }
   },
   "outputs": [],
   "source": [
    "df[\"出力(MW)\"] = df[\"出力(MW)\"].astype(np.float32) / df[\"装机容量(MW)\"]"
   ]
  },
  {
   "cell_type": "markdown",
   "metadata": {},
   "source": [
    "<h3>风向</h3>"
   ]
  },
  {
   "cell_type": "code",
   "execution_count": 40,
   "metadata": {
    "ExecuteTime": {
     "end_time": "2024-03-10T11:35:46.650379Z",
     "start_time": "2024-03-10T11:35:46.636310Z"
    }
   },
   "outputs": [],
   "source": [
    "df[\"10米有效风速\"] = df[\"10米风速（10m/s）\"] * np.cos(df[\"10米风向（°)\"])\n",
    "df[\"100米有效风速\"] = df[\"100m风速（100m/s）\"] * np.cos(df[\"100m风向（°)\"])"
   ]
  },
  {
   "cell_type": "markdown",
   "metadata": {},
   "source": [
    "<h3>特征和标签</h3>"
   ]
  },
  {
   "cell_type": "code",
   "execution_count": 41,
   "metadata": {
    "ExecuteTime": {
     "end_time": "2024-03-10T11:35:46.665979Z",
     "start_time": "2024-03-10T11:35:46.652426Z"
    }
   },
   "outputs": [],
   "source": [
    "LABEL = '出力(MW)'\n",
    "feats = [x for x in df.columns if x not in [LABEL, '时间', 'time',  '站点编号', \"day\", \"minute\"]]"
   ]
  },
  {
   "cell_type": "markdown",
   "metadata": {},
   "source": [
    "<h3>历史值特征</h3>"
   ]
  },
  {
   "cell_type": "code",
   "execution_count": 42,
   "metadata": {
    "ExecuteTime": {
     "end_time": "2024-03-10T11:35:46.681729Z",
     "start_time": "2024-03-10T11:35:46.666980Z"
    }
   },
   "outputs": [],
   "source": [
    "# df_sites = []\n",
    "# for site, df_site in df.groupby(\"站点编号\"):\n",
    "#     df_site[\"10米风速（10m/s） - 1\"] = df_site[\"10米风速（10m/s）\"].shift(1)\n",
    "#     df_site[\"100m风速（100m/s） - 1\"] = df_site[\"100m风速（100m/s）\"].shift(1)\n",
    "#     df_site[\"10米风向（°) - 1\"] = df_site[\"10米风向（°)\"].shift(1)\n",
    "#     df_site[\"100m风向（°) - 1\"] = df_site[\"100m风向（°)\"].shift(1)\n",
    "#     df_site[\"10米风速（10m/s） - 2\"] = df_site[\"10米风速（10m/s）\"].shift(2)\n",
    "#     df_site[\"100m风速（100m/s） - 2\"] = df_site[\"100m风速（100m/s）\"].shift(2)\n",
    "#     df_site[\"10米风向（°) - 2\"] = df_site[\"10米风向（°)\"].shift(2)\n",
    "#     df_site[\"100m风向（°) - 2\"] = df_site[\"100m风向（°)\"].shift(2)\n",
    "#     df_sites.append(df_site)\n",
    "# df = pd.concat(df_sites)"
   ]
  },
  {
   "cell_type": "markdown",
   "metadata": {},
   "source": [
    "<h3>处理空值</h3>"
   ]
  },
  {
   "cell_type": "code",
   "execution_count": 43,
   "metadata": {
    "ExecuteTime": {
     "end_time": "2024-03-10T11:35:46.793670Z",
     "start_time": "2024-03-10T11:35:46.683719Z"
    }
   },
   "outputs": [],
   "source": [
    "df_train = df[df[LABEL].notna()]\n",
    "df_test = df[df[\"time\"] >= \"2023-5-1 0:00\"].reset_index(drop=True)\n",
    "\n",
    "df_train = df_train[df_train[LABEL].notnull()].reset_index(drop=True)\n",
    "df_train[LABEL] = df_train[LABEL].astype('float32')"
   ]
  },
  {
   "cell_type": "markdown",
   "metadata": {},
   "source": [
    "<h2>建立模型</h2>"
   ]
  },
  {
   "cell_type": "markdown",
   "metadata": {},
   "source": [
    "<h3>lightgbm</h3>"
   ]
  },
  {
   "cell_type": "code",
   "execution_count": 44,
   "metadata": {
    "ExecuteTime": {
     "end_time": "2024-03-10T11:35:46.808670Z",
     "start_time": "2024-03-10T11:35:46.794670Z"
    }
   },
   "outputs": [],
   "source": [
    "params_lgb = {\n",
    "    'learning_rate': 0.02,\n",
    "    'boosting_type': 'gbdt',\n",
    "    'objective': 'mse',\n",
    "    'metric': 'mse',\n",
    "    'num_leaves': 64,\n",
    "    'verbose': -1,\n",
    "    'seed': 2,\n",
    "    'n_jobs': -1,\n",
    "\n",
    "    'feature_fraction': 0.8,\n",
    "    'bagging_fraction': 0.9,\n",
    "    'bagging_freq': 4,\n",
    "}\n",
    "\n",
    "importance = 0\n",
    "MODEL_TYPE = 'lgb'"
   ]
  },
  {
   "cell_type": "code",
   "execution_count": 45,
   "metadata": {
    "ExecuteTime": {
     "end_time": "2024-03-10T11:35:46.856670Z",
     "start_time": "2024-03-10T11:35:46.809670Z"
    }
   },
   "outputs": [],
   "source": [
    "sub_train_df = df_train[df_train['time'] < '2023-02-01 0:0:0']\n",
    "sub_val_df = df_train[df_train['time'] >= '2023-02-01 0:0:0']\n",
    "\n",
    "train = Dataset(sub_train_df[feats], sub_train_df[LABEL])\n",
    "val = Dataset(sub_val_df[feats], sub_val_df[LABEL])"
   ]
  },
  {
   "cell_type": "code",
   "execution_count": 46,
   "metadata": {
    "ExecuteTime": {
     "end_time": "2024-03-10T11:35:50.164101Z",
     "start_time": "2024-03-10T11:35:46.857670Z"
    }
   },
   "outputs": [
    {
     "name": "stdout",
     "output_type": "stream",
     "text": [
      "Training until validation scores don't improve for 100 rounds\n",
      "[100]\ttraining's l2: 0.0189475\tvalid_1's l2: 0.026076\n",
      "[200]\ttraining's l2: 0.0151431\tvalid_1's l2: 0.0241549\n",
      "[300]\ttraining's l2: 0.0134728\tvalid_1's l2: 0.0240437\n"
     ]
    },
    {
     "name": "stderr",
     "output_type": "stream",
     "text": [
      "2024-03-10 19:35:50,154 : INFO : 分数: 0.86579648679954 RMSE: 0.15500584172678977\n"
     ]
    },
    {
     "name": "stdout",
     "output_type": "stream",
     "text": [
      "Early stopping, best iteration is:\n",
      "[252]\ttraining's l2: 0.014171\tvalid_1's l2: 0.0240268\n"
     ]
    }
   ],
   "source": [
    "model = lgb.train(params_lgb, train, valid_sets=[train, val], num_boost_round=5000, callbacks=[lgb.early_stopping(100), lgb.log_evaluation(100)])\n",
    "\n",
    "val_pred = model.predict(sub_val_df[feats])\n",
    "\n",
    "s_mse = mse(sub_val_df[LABEL], val_pred, squared=False)\n",
    "score = 1 / (1+s_mse)\n",
    "logging.info(f\"分数: {score} RMSE: {s_mse}\")"
   ]
  },
  {
   "cell_type": "code",
   "execution_count": 47,
   "metadata": {
    "ExecuteTime": {
     "end_time": "2024-03-10T11:35:50.276101Z",
     "start_time": "2024-03-10T11:35:50.165102Z"
    }
   },
   "outputs": [
    {
     "name": "stderr",
     "output_type": "stream",
     "text": [
      "2024-03-10 19:35:50,168 : INFO :               name     importance\n",
      "8   100m风速（100m/s）  211822.940989\n",
      "3     10米风速（10m/s）   52853.964371\n",
      "9        100m风向（°)   10699.017739\n",
      "10        装机容量(MW)    6708.678919\n",
      "4         10米风向（°)    4956.660354\n",
      "7            降水（m）    4674.226411\n",
      "11         站点编号_f1    3681.627462\n",
      "5            温度（K）    3672.840991\n",
      "0           气压(Pa）    3510.354874\n",
      "17           month    2581.990370\n",
      "1          相对湿度（%）    1915.690026\n",
      "15         站点编号_f5    1689.093637\n",
      "12         站点编号_f2    1538.848795\n",
      "6       辐照强度（J/m2）    1217.386585\n",
      "13         站点编号_f3    1216.735078\n",
      "16            hour    1171.313801\n",
      "2               云量    1004.595902\n",
      "19        100米有效风速     853.546204\n",
      "14         站点编号_f4     725.460246\n",
      "18         10米有效风速     618.852861\n"
     ]
    },
    {
     "data": {
      "image/png": "[encoded data removed]",
      "text/plain": [
       "<Figure size 432x288 with 1 Axes>"
      ]
     },
     "metadata": {
      "needs_background": "light"
     },
     "output_type": "display_data"
    }
   ],
   "source": [
    "importance += model.feature_importance(importance_type='gain')\n",
    "feats_importance = pd.DataFrame()\n",
    "feats_importance['name'] = feats\n",
    "feats_importance['importance'] = importance\n",
    "logging.info(feats_importance.sort_values('importance', ascending=False)[:30])\n",
    "\n",
    "plot(sub_val_df[LABEL].values)\n",
    "plot(val_pred)\n",
    "show()"
   ]
  },
  {
   "cell_type": "code",
   "execution_count": 48,
   "metadata": {
    "ExecuteTime": {
     "end_time": "2024-03-10T11:35:52.929114Z",
     "start_time": "2024-03-10T11:35:50.277101Z"
    }
   },
   "outputs": [
    {
     "data": {
      "text/plain": [
       "<lightgbm.basic.Booster at 0x229e5e74278>"
      ]
     },
     "execution_count": 48,
     "metadata": {},
     "output_type": "execute_result"
    }
   ],
   "source": [
    "model = lgb.train(params_lgb, lgb.Dataset(df_train[feats], df_train[LABEL]), num_boost_round=model.best_iteration)\n",
    "model.save_model(\"../models/lightgbm.txt\")"
   ]
  },
  {
   "cell_type": "markdown",
   "metadata": {},
   "source": [
    "<h2>预测</h2>"
   ]
  },
  {
   "cell_type": "code",
   "execution_count": 49,
   "metadata": {
    "ExecuteTime": {
     "end_time": "2024-03-10T11:35:53.089128Z",
     "start_time": "2024-03-10T11:35:52.930114Z"
    }
   },
   "outputs": [],
   "source": [
    "pred_y = model.predict(df_test[feats])\n",
    "\n",
    "df_test[LABEL] = pred_y * df_test[\"装机容量(MW)\"]\n",
    "\n",
    "df_test[['站点编号','时间','出力(MW)']].to_csv(\"../data/%s.csv\" % datetime.now().strftime(\"%Y%m%d_%H%M%S\"), encoding=\"utf-8\", index=False)"
   ]
  },
  {
   "cell_type": "code",
   "execution_count": null,
   "metadata": {},
   "outputs": [],
   "source": []
  }
 ],
 "metadata": {
  "kernelspec": {
   "display_name": "Python 3",
   "language": "python",
   "name": "python3"
  },
  "language_info": {
   "codemirror_mode": {
    "name": "ipython",
    "version": 3
   },
   "file_extension": ".py",
   "mimetype": "text/x-python",
   "name": "python",
   "nbconvert_exporter": "python",
   "pygments_lexer": "ipython3",
   "version": "3.7.3"
  },
  "toc": {
   "base_numbering": 1,
   "nav_menu": {},
   "number_sections": true,
   "sideBar": true,
   "skip_h1_title": false,
   "title_cell": "Table of Contents",
   "title_sidebar": "Contents",
   "toc_cell": false,
   "toc_position": {},
   "toc_section_display": true,
   "toc_window_display": true
  },
  "varInspector": {
   "cols": {
    "lenName": 16,
    "lenType": 16,
    "lenVar": 40
   },
   "kernels_config": {
    "python": {
     "delete_cmd_postfix": "",
     "delete_cmd_prefix": "del ",
     "library": "var_list.py",
     "varRefreshCmd": "print(var_dic_list())"
    },
    "r": {
     "delete_cmd_postfix": ") ",
     "delete_cmd_prefix": "rm(",
     "library": "var_list.r",
     "varRefreshCmd": "cat(var_dic_list()) "
    }
   },
   "types_to_exclude": [
    "module",
    "function",
    "builtin_function_or_method",
    "instance",
    "_Feature"
   ],
   "window_display": false
  }
 },
 "nbformat": 4,
 "nbformat_minor": 4
}
