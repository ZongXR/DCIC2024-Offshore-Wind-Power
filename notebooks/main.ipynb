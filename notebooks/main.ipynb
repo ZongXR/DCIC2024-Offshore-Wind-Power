{
 "cells": [
  {
   "cell_type": "markdown",
   "metadata": {},
   "source": [
    "<h2>导入包</h2>"
   ]
  },
  {
   "cell_type": "code",
   "execution_count": 55,
   "metadata": {
    "ExecuteTime": {
     "end_time": "2024-03-07T02:53:10.886249Z",
     "start_time": "2024-03-07T02:53:10.871294Z"
    }
   },
   "outputs": [],
   "source": [
    "from datetime import datetime\n",
    "import pandas as pd\n",
    "import numpy as np\n",
    "import lightgbm as lgb\n",
    "from lightgbm import Dataset\n",
    "import time\n",
    "from sklearn.metrics import mean_squared_error as mse\n",
    "from sklearn.model_selection import StratifiedKFold, KFold, train_test_split\n",
    "from matplotlib.pyplot import plot, show, title"
   ]
  },
  {
   "cell_type": "markdown",
   "metadata": {},
   "source": [
    "<h2>读取数据</h2>"
   ]
  },
  {
   "cell_type": "code",
   "execution_count": 56,
   "metadata": {
    "ExecuteTime": {
     "end_time": "2024-03-07T02:53:11.139247Z",
     "start_time": "2024-03-07T02:53:10.888249Z"
    }
   },
   "outputs": [],
   "source": [
    "df_train = pd.read_csv('../data/A榜-训练集_海上风电预测_气象变量及实际功率数据.csv', encoding='gbk')\n",
    "df_test = pd.read_csv('../data/A榜-测试集_海上风电预测_气象变量数据.csv', encoding='gbk')\n",
    "info_train = pd.read_csv('../data/A榜-训练集_海上风电预测_基本信息.csv', encoding='gbk')\n",
    "info_test = pd.read_csv('../data/A榜-测试集_海上风电预测_基本信息.csv', encoding='gbk')"
   ]
  },
  {
   "cell_type": "code",
   "execution_count": 57,
   "metadata": {
    "ExecuteTime": {
     "end_time": "2024-03-07T02:53:11.186609Z",
     "start_time": "2024-03-07T02:53:11.140249Z"
    }
   },
   "outputs": [],
   "source": [
    "df_train = pd.merge(df_train, info_train[[\"站点编号\", \"装机容量(MW)\"]], how=\"left\", on=\"站点编号\")\n",
    "df_test = pd.merge(df_test, info_test[[\"站点编号\", \"装机容量(MW)\"]], how=\"left\", on=\"站点编号\")"
   ]
  },
  {
   "cell_type": "markdown",
   "metadata": {},
   "source": [
    "<h2>特征工程</h2>"
   ]
  },
  {
   "cell_type": "markdown",
   "metadata": {},
   "source": [
    "<h3>处理空值</h3>"
   ]
  },
  {
   "cell_type": "code",
   "execution_count": 58,
   "metadata": {
    "ExecuteTime": {
     "end_time": "2024-03-07T02:53:11.218609Z",
     "start_time": "2024-03-07T02:53:11.187609Z"
    }
   },
   "outputs": [],
   "source": [
    "df_train = df_train.replace(\"<NULL>\", np.nan)\n",
    "df_test = df_test.replace(\"<NULL>\", np.nan)"
   ]
  },
  {
   "cell_type": "markdown",
   "metadata": {},
   "source": [
    "<h3>时间特征</h3>"
   ]
  },
  {
   "cell_type": "code",
   "execution_count": 59,
   "metadata": {
    "ExecuteTime": {
     "end_time": "2024-03-07T02:53:11.330231Z",
     "start_time": "2024-03-07T02:53:11.219609Z"
    }
   },
   "outputs": [],
   "source": [
    "df_train[\"时间\"] = pd.to_datetime(df_train[\"时间\"])\n",
    "df_train[\"年\"] = df_train[\"时间\"].dt.year\n",
    "df_train[\"月\"] = df_train[\"时间\"].dt.month\n",
    "df_train[\"日\"] = df_train[\"时间\"].dt.day\n",
    "df_train[\"分\"] = (df_train[\"时间\"].dt.hour * 60 + df_train[\"时间\"].dt.minute) // 15\n",
    "df_train = df_train.drop(columns=[\"时间\"])"
   ]
  },
  {
   "cell_type": "code",
   "execution_count": 60,
   "metadata": {
    "ExecuteTime": {
     "end_time": "2024-03-07T02:53:11.362231Z",
     "start_time": "2024-03-07T02:53:11.331232Z"
    }
   },
   "outputs": [],
   "source": [
    "df_test[\"时间\"] = pd.to_datetime(df_test[\"时间\"])\n",
    "df_test[\"年\"] = df_test[\"时间\"].dt.year\n",
    "df_test[\"月\"] = df_test[\"时间\"].dt.month\n",
    "df_test[\"日\"] = df_test[\"时间\"].dt.day\n",
    "df_test[\"分\"] = (df_test[\"时间\"].dt.hour * 60 + df_test[\"时间\"].dt.minute) // 15\n",
    "df_test = df_test.drop(columns=[\"时间\"])"
   ]
  },
  {
   "cell_type": "markdown",
   "metadata": {},
   "source": [
    "<h2>逐个建模</h2>"
   ]
  },
  {
   "cell_type": "markdown",
   "metadata": {},
   "source": [
    "<h3>lightgbm超参数</h3>"
   ]
  },
  {
   "cell_type": "code",
   "execution_count": 61,
   "metadata": {
    "ExecuteTime": {
     "end_time": "2024-03-07T02:53:11.378231Z",
     "start_time": "2024-03-07T02:53:11.363232Z"
    }
   },
   "outputs": [],
   "source": [
    "params_lgb = {\n",
    "    'learning_rate': 0.02,\n",
    "    'boosting_type': 'gbdt',\n",
    "    'objective': 'mse',\n",
    "    'metric': 'mse',\n",
    "    'num_leaves': 64,\n",
    "    'verbose': -1,\n",
    "    'seed': 42,\n",
    "    'n_jobs': -1,\n",
    "    'feature_fraction': 0.8,\n",
    "    'bagging_fraction': 0.9,\n",
    "    'bagging_freq': 4,\n",
    "}"
   ]
  },
  {
   "cell_type": "markdown",
   "metadata": {},
   "source": [
    "<h3>分组训练</h3>"
   ]
  },
  {
   "cell_type": "code",
   "execution_count": 62,
   "metadata": {
    "ExecuteTime": {
     "end_time": "2024-03-07T02:54:11.315822Z",
     "start_time": "2024-03-07T02:53:11.379231Z"
    }
   },
   "outputs": [
    {
     "name": "stdout",
     "output_type": "stream",
     "text": [
      "Training until validation scores don't improve for 100 rounds\n",
      "[1000]\ttraining's l2: 6.3883\tvalid_1's l2: 10.5232\n",
      "[2000]\ttraining's l2: 3.13315\tvalid_1's l2: 7.44521\n",
      "[3000]\ttraining's l2: 1.89543\tvalid_1's l2: 6.21733\n",
      "[4000]\ttraining's l2: 1.26768\tvalid_1's l2: 5.57674\n",
      "[5000]\ttraining's l2: 0.900339\tvalid_1's l2: 5.16667\n",
      "Did not meet early stopping. Best iteration is:\n",
      "[5000]\ttraining's l2: 0.900339\tvalid_1's l2: 5.16667\n",
      "Training until validation scores don't improve for 100 rounds\n",
      "[1000]\ttraining's l2: 272.705\tvalid_1's l2: 436.153\n",
      "[2000]\ttraining's l2: 128.064\tvalid_1's l2: 300.159\n",
      "[3000]\ttraining's l2: 74.1102\tvalid_1's l2: 245.881\n",
      "[4000]\ttraining's l2: 48.2455\tvalid_1's l2: 217.762\n",
      "[5000]\ttraining's l2: 33.1708\tvalid_1's l2: 200.184\n",
      "Did not meet early stopping. Best iteration is:\n",
      "[5000]\ttraining's l2: 33.1708\tvalid_1's l2: 200.184\n",
      "Training until validation scores don't improve for 100 rounds\n",
      "[1000]\ttraining's l2: 6.9709\tvalid_1's l2: 11.3418\n",
      "[2000]\ttraining's l2: 3.20898\tvalid_1's l2: 7.58608\n",
      "[3000]\ttraining's l2: 1.85204\tvalid_1's l2: 6.16859\n",
      "[4000]\ttraining's l2: 1.18627\tvalid_1's l2: 5.43845\n",
      "[5000]\ttraining's l2: 0.816182\tvalid_1's l2: 5.00382\n",
      "Did not meet early stopping. Best iteration is:\n",
      "[5000]\ttraining's l2: 0.816182\tvalid_1's l2: 5.00382\n",
      "Training until validation scores don't improve for 100 rounds\n",
      "[1000]\ttraining's l2: 22.8295\tvalid_1's l2: 36.8897\n",
      "[2000]\ttraining's l2: 10.7106\tvalid_1's l2: 25.3023\n",
      "[3000]\ttraining's l2: 6.21584\tvalid_1's l2: 20.7188\n",
      "[4000]\ttraining's l2: 4.01213\tvalid_1's l2: 18.3564\n",
      "[5000]\ttraining's l2: 2.7813\tvalid_1's l2: 16.8729\n",
      "Did not meet early stopping. Best iteration is:\n",
      "[5000]\ttraining's l2: 2.7813\tvalid_1's l2: 16.8729\n",
      "Training until validation scores don't improve for 100 rounds\n",
      "[1000]\ttraining's l2: 6.21725\tvalid_1's l2: 9.99542\n",
      "[2000]\ttraining's l2: 2.89799\tvalid_1's l2: 6.64083\n",
      "[3000]\ttraining's l2: 1.67513\tvalid_1's l2: 5.33558\n",
      "[4000]\ttraining's l2: 1.09489\tvalid_1's l2: 4.70449\n",
      "[5000]\ttraining's l2: 0.760079\tvalid_1's l2: 4.32006\n",
      "Did not meet early stopping. Best iteration is:\n",
      "[5000]\ttraining's l2: 0.760079\tvalid_1's l2: 4.32006\n"
     ]
    }
   ],
   "source": [
    "model_lgb = dict()\n",
    "for site, df in df_train.groupby(\"站点编号\"):\n",
    "    df = df.drop(columns=[\"站点编号\"]).astype(np.float32)\n",
    "    y = df[\"出力(MW)\"]\n",
    "    x = df.drop(columns=[\"出力(MW)\"])\n",
    "    x[\"10米风速（10m/s） - 1\"] = x[\"10米风速（10m/s）\"].shift(1)\n",
    "    x[\"100m风速（100m/s） - 1\"] = x[\"100m风速（100m/s）\"].shift(1)\n",
    "    x_train, x_val, y_train, y_val = train_test_split(x, y, test_size=0.2, random_state=42)\n",
    "    trainset = Dataset(x_train, y_train)\n",
    "    valset = Dataset(x_val, y_val)\n",
    "    model_lgb[site] = lgb.train(params_lgb, trainset, valid_sets=[trainset, valset], num_boost_round=5000, callbacks=[lgb.early_stopping(100), lgb.log_evaluation(1000)])\n",
    "    model_lgb[site] = lgb.train(params_lgb, Dataset(x, y), num_boost_round=model_lgb[site].best_iteration)\n",
    "    model_lgb[site].save_model(\"../models/lgb_%s.txt\" % site)"
   ]
  },
  {
   "cell_type": "markdown",
   "metadata": {},
   "source": [
    "<h2>预测</h2>"
   ]
  },
  {
   "cell_type": "code",
   "execution_count": 63,
   "metadata": {
    "ExecuteTime": {
     "end_time": "2024-03-07T02:54:11.915868Z",
     "start_time": "2024-03-07T02:54:11.316822Z"
    }
   },
   "outputs": [],
   "source": [
    "submit_file = pd.read_csv(\"../data/A_submit_example.csv\", encoding=\"utf-8\")\n",
    "for site, df in df_test.groupby(\"站点编号\"):\n",
    "    df = df.drop(columns=[\"站点编号\"]).astype(np.float32)\n",
    "    df[\"10米风速（10m/s） - 1\"] = df[\"10米风速（10m/s）\"].shift(1)\n",
    "    df[\"100m风速（100m/s） - 1\"] = df[\"100m风速（100m/s）\"].shift(1)\n",
    "    y_pred = model_lgb[site].predict(df)\n",
    "    submit_file.loc[submit_file[\"站点编号\"] == site, \"出力(MW)\"] = y_pred"
   ]
  },
  {
   "cell_type": "code",
   "execution_count": 64,
   "metadata": {
    "ExecuteTime": {
     "end_time": "2024-03-07T02:54:11.994870Z",
     "start_time": "2024-03-07T02:54:11.916868Z"
    }
   },
   "outputs": [],
   "source": [
    "submit_file.to_csv(\"../data/%s.csv\" % datetime.now().strftime(\"%Y%m%d_%H%M%S\"), encoding=\"utf-8\", index=False)"
   ]
  },
  {
   "cell_type": "code",
   "execution_count": null,
   "metadata": {},
   "outputs": [],
   "source": []
  }
 ],
 "metadata": {
  "kernelspec": {
   "display_name": "Python 3",
   "language": "python",
   "name": "python3"
  },
  "language_info": {
   "codemirror_mode": {
    "name": "ipython",
    "version": 3
   },
   "file_extension": ".py",
   "mimetype": "text/x-python",
   "name": "python",
   "nbconvert_exporter": "python",
   "pygments_lexer": "ipython3",
   "version": "3.7.3"
  },
  "toc": {
   "base_numbering": 1,
   "nav_menu": {},
   "number_sections": true,
   "sideBar": true,
   "skip_h1_title": false,
   "title_cell": "Table of Contents",
   "title_sidebar": "Contents",
   "toc_cell": false,
   "toc_position": {},
   "toc_section_display": true,
   "toc_window_display": true
  },
  "varInspector": {
   "cols": {
    "lenName": 16,
    "lenType": 16,
    "lenVar": 40
   },
   "kernels_config": {
    "python": {
     "delete_cmd_postfix": "",
     "delete_cmd_prefix": "del ",
     "library": "var_list.py",
     "varRefreshCmd": "print(var_dic_list())"
    },
    "r": {
     "delete_cmd_postfix": ") ",
     "delete_cmd_prefix": "rm(",
     "library": "var_list.r",
     "varRefreshCmd": "cat(var_dic_list()) "
    }
   },
   "types_to_exclude": [
    "module",
    "function",
    "builtin_function_or_method",
    "instance",
    "_Feature"
   ],
   "window_display": false
  }
 },
 "nbformat": 4,
 "nbformat_minor": 4
}
