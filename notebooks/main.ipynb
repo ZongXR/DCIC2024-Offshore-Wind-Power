{
 "cells": [
  {
   "cell_type": "markdown",
   "metadata": {},
   "source": [
    "<h2>导入包</h2>"
   ]
  },
  {
   "cell_type": "code",
   "execution_count": 1,
   "id": "92a56ded",
   "metadata": {
    "ExecuteTime": {
     "end_time": "2024-03-19T07:38:22.748426Z",
     "start_time": "2024-03-19T07:38:22.137419Z"
    },
    "_cell_guid": "b1076dfc-b9ad-4769-8c92-a6c4dae69d19",
    "_uuid": "8f2839f25d086af736a60e9eeb907d3b93b6e0e5",
    "execution": {
     "iopub.execute_input": "2024-03-10T13:02:29.572522Z",
     "iopub.status.busy": "2024-03-10T13:02:29.571872Z",
     "iopub.status.idle": "2024-03-10T13:02:33.198560Z",
     "shell.execute_reply": "2024-03-10T13:02:33.197266Z"
    },
    "papermill": {
     "duration": 3.637219,
     "end_time": "2024-03-10T13:02:33.201921",
     "exception": false,
     "start_time": "2024-03-10T13:02:29.564702",
     "status": "completed"
    },
    "tags": []
   },
   "outputs": [],
   "source": [
    "import logging\n",
    "import random\n",
    "from datetime import datetime\n",
    "import pandas as pd\n",
    "from pandas import Series, DataFrame\n",
    "import numpy as np\n",
    "import lightgbm as lgb\n",
    "from lightgbm import LGBMRegressor, log_evaluation, early_stopping, Dataset\n",
    "import xgboost as xgb\n",
    "from sklearn.model_selection import KFold\n",
    "\n",
    "\n",
    "logging.basicConfig(format='%(asctime)s : %(levelname)s : %(message)s', level=logging.INFO)"
   ]
  },
  {
   "cell_type": "code",
   "execution_count": 2,
   "id": "3962a326",
   "metadata": {
    "ExecuteTime": {
     "end_time": "2024-03-19T07:38:22.752429Z",
     "start_time": "2024-03-19T07:38:22.749426Z"
    },
    "execution": {
     "iopub.execute_input": "2024-03-10T13:02:33.213634Z",
     "iopub.status.busy": "2024-03-10T13:02:33.212908Z",
     "iopub.status.idle": "2024-03-10T13:02:33.221530Z",
     "shell.execute_reply": "2024-03-10T13:02:33.220007Z"
    },
    "papermill": {
     "duration": 0.01717,
     "end_time": "2024-03-10T13:02:33.223893",
     "exception": false,
     "start_time": "2024-03-10T13:02:33.206723",
     "status": "completed"
    },
    "tags": []
   },
   "outputs": [],
   "source": [
    "class Config():\n",
    "    seed=2024\n",
    "    path=\"../data/\"\n",
    "    target='出力(MW)'\n",
    "    num_folds=12\n",
    "    \n",
    "    \n",
    "#两个基本信息的csv文件可以变成这个字典 位置和装机容量的关系\n",
    "pos2mw={\"f1\":48,'f2':280,'f3':48,'f4':88,'f5':48}\n",
    "\n",
    "#设置随机种子,保证模型可以复现\n",
    "def seed_everything(seed):\n",
    "    np.random.seed(seed)#numpy的随机种子\n",
    "    random.seed(seed)#python内置的随机种子\n",
    "seed_everything(seed=Config.seed)"
   ]
  },
  {
   "cell_type": "markdown",
   "metadata": {},
   "source": [
    "<h2>处理数据</h2>"
   ]
  },
  {
   "cell_type": "markdown",
   "metadata": {},
   "source": [
    "<h3>训练集</h3>"
   ]
  },
  {
   "cell_type": "code",
   "execution_count": 3,
   "id": "ee751ff0",
   "metadata": {
    "ExecuteTime": {
     "end_time": "2024-03-19T07:38:23.079426Z",
     "start_time": "2024-03-19T07:38:22.754418Z"
    },
    "execution": {
     "iopub.execute_input": "2024-03-10T13:02:33.263769Z",
     "iopub.status.busy": "2024-03-10T13:02:33.263369Z",
     "iopub.status.idle": "2024-03-10T13:02:35.593400Z",
     "shell.execute_reply": "2024-03-10T13:02:35.591894Z"
    },
    "papermill": {
     "duration": 2.338643,
     "end_time": "2024-03-10T13:02:35.596058",
     "exception": false,
     "start_time": "2024-03-10T13:02:33.257415",
     "status": "completed"
    },
    "tags": []
   },
   "outputs": [
    {
     "name": "stderr",
     "output_type": "stream",
     "text": [
      "2024-03-19 15:38:23,032 : INFO : len(train_df): 231840\n"
     ]
    },
    {
     "data": {
      "text/html": [
       "<div>\n",
       "<style scoped>\n",
       "    .dataframe tbody tr th:only-of-type {\n",
       "        vertical-align: middle;\n",
       "    }\n",
       "\n",
       "    .dataframe tbody tr th {\n",
       "        vertical-align: top;\n",
       "    }\n",
       "\n",
       "    .dataframe thead th {\n",
       "        text-align: right;\n",
       "    }\n",
       "</style>\n",
       "<table border=\"1\" class=\"dataframe\">\n",
       "  <thead>\n",
       "    <tr style=\"text-align: right;\">\n",
       "      <th></th>\n",
       "      <th>站点编号</th>\n",
       "      <th>时间</th>\n",
       "      <th>气压(Pa）</th>\n",
       "      <th>相对湿度（%）</th>\n",
       "      <th>云量</th>\n",
       "      <th>10米风速（10m/s）</th>\n",
       "      <th>10米风向（°)</th>\n",
       "      <th>温度（K）</th>\n",
       "      <th>辐照强度（J/m2）</th>\n",
       "      <th>降水（m）</th>\n",
       "      <th>100m风速（100m/s）</th>\n",
       "      <th>100m风向（°)</th>\n",
       "      <th>出力(MW)</th>\n",
       "    </tr>\n",
       "  </thead>\n",
       "  <tbody>\n",
       "    <tr>\n",
       "      <th>0</th>\n",
       "      <td>f1</td>\n",
       "      <td>2022-1-3 0:00</td>\n",
       "      <td>102249.6094</td>\n",
       "      <td>74.8513</td>\n",
       "      <td>0.007812</td>\n",
       "      <td>7.7041</td>\n",
       "      <td>26.5195</td>\n",
       "      <td>286.0695</td>\n",
       "      <td>0.0</td>\n",
       "      <td>0.000008</td>\n",
       "      <td>9.0820</td>\n",
       "      <td>27.5093</td>\n",
       "      <td>17.26</td>\n",
       "    </tr>\n",
       "    <tr>\n",
       "      <th>1</th>\n",
       "      <td>f1</td>\n",
       "      <td>2022-1-3 0:15</td>\n",
       "      <td>102252.0355</td>\n",
       "      <td>74.7530</td>\n",
       "      <td>0.000924</td>\n",
       "      <td>7.7710</td>\n",
       "      <td>23.5766</td>\n",
       "      <td>285.8647</td>\n",
       "      <td>0.0</td>\n",
       "      <td>0.000008</td>\n",
       "      <td>9.1374</td>\n",
       "      <td>24.7151</td>\n",
       "      <td>16.78</td>\n",
       "    </tr>\n",
       "    <tr>\n",
       "      <th>2</th>\n",
       "      <td>f1</td>\n",
       "      <td>2022-1-3 0:30</td>\n",
       "      <td>102248.5900</td>\n",
       "      <td>74.4995</td>\n",
       "      <td>0.003009</td>\n",
       "      <td>7.8272</td>\n",
       "      <td>21.5451</td>\n",
       "      <td>285.6935</td>\n",
       "      <td>0.0</td>\n",
       "      <td>0.000008</td>\n",
       "      <td>9.1856</td>\n",
       "      <td>22.7445</td>\n",
       "      <td>16.25</td>\n",
       "    </tr>\n",
       "    <tr>\n",
       "      <th>3</th>\n",
       "      <td>f1</td>\n",
       "      <td>2022-1-3 0:45</td>\n",
       "      <td>102240.4725</td>\n",
       "      <td>74.1432</td>\n",
       "      <td>0.011402</td>\n",
       "      <td>7.8637</td>\n",
       "      <td>20.2394</td>\n",
       "      <td>285.5512</td>\n",
       "      <td>0.0</td>\n",
       "      <td>0.000008</td>\n",
       "      <td>9.2158</td>\n",
       "      <td>21.4374</td>\n",
       "      <td>15.37</td>\n",
       "    </tr>\n",
       "    <tr>\n",
       "      <th>4</th>\n",
       "      <td>f1</td>\n",
       "      <td>2022-1-3 1:00</td>\n",
       "      <td>102228.8828</td>\n",
       "      <td>73.7366</td>\n",
       "      <td>0.023438</td>\n",
       "      <td>7.8781</td>\n",
       "      <td>19.4870</td>\n",
       "      <td>285.4330</td>\n",
       "      <td>0.0</td>\n",
       "      <td>0.000008</td>\n",
       "      <td>9.2237</td>\n",
       "      <td>20.6417</td>\n",
       "      <td>15.64</td>\n",
       "    </tr>\n",
       "  </tbody>\n",
       "</table>\n",
       "</div>"
      ],
      "text/plain": [
       "  站点编号             时间       气压(Pa）  相对湿度（%）        云量  10米风速（10m/s）  10米风向（°)  \\\n",
       "0   f1  2022-1-3 0:00  102249.6094  74.8513  0.007812        7.7041   26.5195   \n",
       "1   f1  2022-1-3 0:15  102252.0355  74.7530  0.000924        7.7710   23.5766   \n",
       "2   f1  2022-1-3 0:30  102248.5900  74.4995  0.003009        7.8272   21.5451   \n",
       "3   f1  2022-1-3 0:45  102240.4725  74.1432  0.011402        7.8637   20.2394   \n",
       "4   f1  2022-1-3 1:00  102228.8828  73.7366  0.023438        7.8781   19.4870   \n",
       "\n",
       "      温度（K）  辐照强度（J/m2）     降水（m）  100m风速（100m/s）  100m风向（°)  出力(MW)  \n",
       "0  286.0695         0.0  0.000008          9.0820    27.5093   17.26  \n",
       "1  285.8647         0.0  0.000008          9.1374    24.7151   16.78  \n",
       "2  285.6935         0.0  0.000008          9.1856    22.7445   16.25  \n",
       "3  285.5512         0.0  0.000008          9.2158    21.4374   15.37  \n",
       "4  285.4330         0.0  0.000008          9.2237    20.6417   15.64  "
      ]
     },
     "execution_count": 3,
     "metadata": {},
     "output_type": "execute_result"
    }
   ],
   "source": [
    "train_df = pd.read_csv(Config.path+\"A榜-训练集_海上风电预测_气象变量及实际功率数据.csv\", encoding='gbk')\n",
    "logging.info(f\"len(train_df): {len(train_df)}\")\n",
    "#将缺失值替换为np.nan,并转数据类型为float.\n",
    "train_df[Config.target] = train_df[Config.target].replace('<NULL>', np.nan).astype(float)\n",
    "#用线性插值的方式填充缺失值\n",
    "train_df[Config.target] = train_df[Config.target].interpolate()\n",
    "train_df.head()"
   ]
  },
  {
   "cell_type": "markdown",
   "metadata": {},
   "source": [
    "<h3>测试集</h3>"
   ]
  },
  {
   "cell_type": "code",
   "execution_count": 4,
   "id": "ece0a03c",
   "metadata": {
    "ExecuteTime": {
     "end_time": "2024-03-19T07:38:23.143426Z",
     "start_time": "2024-03-19T07:38:23.080421Z"
    },
    "execution": {
     "iopub.execute_input": "2024-03-10T13:02:35.608478Z",
     "iopub.status.busy": "2024-03-10T13:02:35.608048Z",
     "iopub.status.idle": "2024-03-10T13:02:36.025421Z",
     "shell.execute_reply": "2024-03-10T13:02:36.023784Z"
    },
    "papermill": {
     "duration": 0.428059,
     "end_time": "2024-03-10T13:02:36.029145",
     "exception": false,
     "start_time": "2024-03-10T13:02:35.601086",
     "status": "completed"
    },
    "tags": []
   },
   "outputs": [
    {
     "name": "stderr",
     "output_type": "stream",
     "text": [
      "2024-03-19 15:38:23,134 : INFO : len(test_df): 44160\n"
     ]
    },
    {
     "data": {
      "text/html": [
       "<div>\n",
       "<style scoped>\n",
       "    .dataframe tbody tr th:only-of-type {\n",
       "        vertical-align: middle;\n",
       "    }\n",
       "\n",
       "    .dataframe tbody tr th {\n",
       "        vertical-align: top;\n",
       "    }\n",
       "\n",
       "    .dataframe thead th {\n",
       "        text-align: right;\n",
       "    }\n",
       "</style>\n",
       "<table border=\"1\" class=\"dataframe\">\n",
       "  <thead>\n",
       "    <tr style=\"text-align: right;\">\n",
       "      <th></th>\n",
       "      <th>站点编号</th>\n",
       "      <th>时间</th>\n",
       "      <th>气压(Pa）</th>\n",
       "      <th>相对湿度（%）</th>\n",
       "      <th>云量</th>\n",
       "      <th>10米风速（10m/s）</th>\n",
       "      <th>10米风向（°)</th>\n",
       "      <th>温度（K）</th>\n",
       "      <th>辐照强度（J/m2）</th>\n",
       "      <th>降水（m）</th>\n",
       "      <th>100m风速（100m/s）</th>\n",
       "      <th>100m风向（°)</th>\n",
       "    </tr>\n",
       "  </thead>\n",
       "  <tbody>\n",
       "    <tr>\n",
       "      <th>0</th>\n",
       "      <td>f1</td>\n",
       "      <td>2023-5-1 0:00</td>\n",
       "      <td>101309.6250</td>\n",
       "      <td>84.3487</td>\n",
       "      <td>0.67969</td>\n",
       "      <td>4.7181</td>\n",
       "      <td>18.4066</td>\n",
       "      <td>290.0291</td>\n",
       "      <td>0.0</td>\n",
       "      <td>0.003588</td>\n",
       "      <td>5.5467</td>\n",
       "      <td>20.4047</td>\n",
       "    </tr>\n",
       "    <tr>\n",
       "      <th>1</th>\n",
       "      <td>f1</td>\n",
       "      <td>2023-5-1 0:15</td>\n",
       "      <td>101303.2590</td>\n",
       "      <td>84.4800</td>\n",
       "      <td>0.65654</td>\n",
       "      <td>4.7575</td>\n",
       "      <td>18.2344</td>\n",
       "      <td>290.0030</td>\n",
       "      <td>0.0</td>\n",
       "      <td>0.000739</td>\n",
       "      <td>5.5886</td>\n",
       "      <td>20.1468</td>\n",
       "    </tr>\n",
       "    <tr>\n",
       "      <th>2</th>\n",
       "      <td>f1</td>\n",
       "      <td>2023-5-1 0:30</td>\n",
       "      <td>101291.8681</td>\n",
       "      <td>84.1823</td>\n",
       "      <td>0.61713</td>\n",
       "      <td>4.7772</td>\n",
       "      <td>16.0279</td>\n",
       "      <td>289.9786</td>\n",
       "      <td>0.0</td>\n",
       "      <td>0.000641</td>\n",
       "      <td>5.6422</td>\n",
       "      <td>17.9834</td>\n",
       "    </tr>\n",
       "    <tr>\n",
       "      <th>3</th>\n",
       "      <td>f1</td>\n",
       "      <td>2023-5-1 0:45</td>\n",
       "      <td>101277.4571</td>\n",
       "      <td>83.5966</td>\n",
       "      <td>0.58752</td>\n",
       "      <td>4.7852</td>\n",
       "      <td>12.8178</td>\n",
       "      <td>289.9495</td>\n",
       "      <td>0.0</td>\n",
       "      <td>0.002015</td>\n",
       "      <td>5.6978</td>\n",
       "      <td>14.9278</td>\n",
       "    </tr>\n",
       "    <tr>\n",
       "      <th>4</th>\n",
       "      <td>f1</td>\n",
       "      <td>2023-5-1 1:00</td>\n",
       "      <td>101262.0313</td>\n",
       "      <td>82.8641</td>\n",
       "      <td>0.59375</td>\n",
       "      <td>4.7795</td>\n",
       "      <td>9.6014</td>\n",
       "      <td>289.9096</td>\n",
       "      <td>0.0</td>\n",
       "      <td>0.003588</td>\n",
       "      <td>5.7344</td>\n",
       "      <td>11.9240</td>\n",
       "    </tr>\n",
       "  </tbody>\n",
       "</table>\n",
       "</div>"
      ],
      "text/plain": [
       "  站点编号             时间       气压(Pa）  相对湿度（%）       云量  10米风速（10m/s）  10米风向（°)  \\\n",
       "0   f1  2023-5-1 0:00  101309.6250  84.3487  0.67969        4.7181   18.4066   \n",
       "1   f1  2023-5-1 0:15  101303.2590  84.4800  0.65654        4.7575   18.2344   \n",
       "2   f1  2023-5-1 0:30  101291.8681  84.1823  0.61713        4.7772   16.0279   \n",
       "3   f1  2023-5-1 0:45  101277.4571  83.5966  0.58752        4.7852   12.8178   \n",
       "4   f1  2023-5-1 1:00  101262.0313  82.8641  0.59375        4.7795    9.6014   \n",
       "\n",
       "      温度（K）  辐照强度（J/m2）     降水（m）  100m风速（100m/s）  100m风向（°)  \n",
       "0  290.0291         0.0  0.003588          5.5467    20.4047  \n",
       "1  290.0030         0.0  0.000739          5.5886    20.1468  \n",
       "2  289.9786         0.0  0.000641          5.6422    17.9834  \n",
       "3  289.9495         0.0  0.002015          5.6978    14.9278  \n",
       "4  289.9096         0.0  0.003588          5.7344    11.9240  "
      ]
     },
     "execution_count": 4,
     "metadata": {},
     "output_type": "execute_result"
    }
   ],
   "source": [
    "test_df = pd.read_csv(Config.path+\"A榜-测试集_海上风电预测_气象变量数据.csv\", encoding='gbk')\n",
    "logging.info(f\"len(test_df): {len(test_df)}\")\n",
    "test_df.head()"
   ]
  },
  {
   "cell_type": "code",
   "execution_count": 5,
   "id": "bddbe450",
   "metadata": {
    "ExecuteTime": {
     "end_time": "2024-03-19T07:38:23.148426Z",
     "start_time": "2024-03-19T07:38:23.144429Z"
    },
    "execution": {
     "iopub.execute_input": "2024-03-10T13:02:36.042946Z",
     "iopub.status.busy": "2024-03-10T13:02:36.042474Z",
     "iopub.status.idle": "2024-03-10T13:02:36.049862Z",
     "shell.execute_reply": "2024-03-10T13:02:36.048572Z"
    },
    "papermill": {
     "duration": 0.018111,
     "end_time": "2024-03-10T13:02:36.053100",
     "exception": false,
     "start_time": "2024-03-10T13:02:36.034989",
     "status": "completed"
    },
    "tags": []
   },
   "outputs": [
    {
     "name": "stderr",
     "output_type": "stream",
     "text": [
      "2024-03-19 15:38:23,145 : INFO : 删除列: ['相对湿度（%）', 'year']\n",
      "2024-03-19 15:38:23,146 : INFO : 总特征数: 12\n"
     ]
    }
   ],
   "source": [
    "# #计算两组变量的皮尔逊相关系数\n",
    "# def pearson_corr(x1,x2):\n",
    "#     \"\"\"\n",
    "#     x1,x2:np.array\n",
    "#     \"\"\"\n",
    "#     mean_x1=np.mean(x1)\n",
    "#     mean_x2=np.mean(x2)\n",
    "#     std_x1=np.std(x1)\n",
    "#     std_x2=np.std(x2)\n",
    "#     pearson=np.mean((x1-mean_x1)*(x2-mean_x2))/(std_x1*std_x2)\n",
    "#     return pearson\n",
    "# drop_cols=[]\n",
    "# for col in train_df.drop([Config.target],axis=1).columns:\n",
    "#     pearson=pearson_corr(train_df[col].values,train_df[Config.target].values)\n",
    "#     print(f\"col:{col},pearson_corr:{pearson}\")\n",
    "#     if abs(pearson)<=0.01:#如果基本上没有什么相关性的特征那就直接drop好了\n",
    "#         drop_cols+=[col]\n",
    "drop_cols = ['相对湿度（%）', 'year']\n",
    "logging.info(f\"删除列: {drop_cols}\")\n",
    "logging.info(f\"总特征数: {len(test_df.columns)}\")"
   ]
  },
  {
   "cell_type": "markdown",
   "metadata": {},
   "source": [
    "<h2>特征工程</h2>"
   ]
  },
  {
   "cell_type": "markdown",
   "metadata": {},
   "source": [
    "<h3>基础特征工程</h3>"
   ]
  },
  {
   "cell_type": "code",
   "execution_count": 6,
   "metadata": {
    "ExecuteTime": {
     "end_time": "2024-03-19T07:38:23.158435Z",
     "start_time": "2024-03-19T07:38:23.149418Z"
    },
    "execution": {
     "iopub.execute_input": "2024-03-10T13:02:33.234884Z",
     "iopub.status.busy": "2024-03-10T13:02:33.234419Z",
     "iopub.status.idle": "2024-03-10T13:02:33.250005Z",
     "shell.execute_reply": "2024-03-10T13:02:33.248903Z"
    },
    "papermill": {
     "duration": 0.024521,
     "end_time": "2024-03-10T13:02:33.252898",
     "exception": false,
     "start_time": "2024-03-10T13:02:33.228377",
     "status": "completed"
    },
    "tags": []
   },
   "outputs": [],
   "source": [
    "def feature_engineer(df):\n",
    "    df['站点装机容量']=df['站点编号'].apply(lambda x: pos2mw[x])\n",
    "\n",
    "    #对时间这列做一系列特征工程,待填充.\n",
    "    df['时间'] = pd.to_datetime(df['时间'])\n",
    "    # 提取年、月、日、小时和分钟\n",
    "    df['year'] = df['时间'].dt.year\n",
    "    df['month'] = df['时间'].dt.month\n",
    "#     df['date'] = df['时间'].dt.day\n",
    "    df['hour'] = df['时间'].dt.hour\n",
    "    df['minute'] = df['时间'].dt.minute\n",
    "\n",
    "    df['比大气压']=df['气压(Pa）'] / df['温度（K）']\n",
    "    #将温度转换成摄氏度\n",
    "    df['温度（K）']=df['温度（K）']-273.15\n",
    "    #相对湿度的取值范围为0.01~0.99\n",
    "    df['相对湿度（%）']=df['相对湿度（%）'].apply(lambda x:max(1,x))\n",
    "    df['相对湿度（%）']=df['相对湿度（%）'].apply(lambda x:min(99,x))\n",
    "\n",
    "    #气象数据的特征工程\n",
    "    #露点温度（°C） = 温度（°C） - (100 - 相对湿度（%）) / 5\n",
    "    df['露点温度']=df['温度（K）']-(100-df['相对湿度（%）'])/5\n",
    "\n",
    "    #风速和风向的特征工程\n",
    "    df['sin_100m风速（100m/s）']=df['100m风速（100m/s）']*np.sin(np.pi*df['100m风向（°)']/180)\n",
    "    df['cos_100m风速（100m/s）']=df['100m风速（100m/s）']*np.cos(np.pi*df['100m风向（°)']/180)\n",
    "\n",
    "    df['sin_10米风速（10m/s）']=df['10米风速（10m/s）']*np.sin(np.pi*df['10米风向（°)']/180)\n",
    "    df['cos_10米风速（10m/s）']=df['10米风速（10m/s）']*np.cos(np.pi*df['10米风向（°)']/180)\n",
    "    \n",
    "    df['100m风向（°)类别']=(df['100m风向（°)']+1)//90\n",
    "    df['10米风向（°)类别']=(df['10米风向（°)']+1)//90\n",
    "    df['10米风向（°)_100m风向（°)']=(df['100m风向（°)类别']==df['10米风向（°)类别'])\n",
    "    \n",
    "    for col in ['100m风向（°)类别','10米风向（°)类别']:\n",
    "        unique_value=df[col].unique()\n",
    "        for value in unique_value:\n",
    "            df[col+\"_\"+str(value)]=(df[col]==value)\n",
    "            \n",
    "    #由于是时序数据,如果有缺失值,这个值肯定和前面一个数据是最接近的.\n",
    "    df.fillna(method='ffill',inplace=True)\n",
    "    \n",
    "    df.drop(['时间'],axis=1,inplace=True)\n",
    "    \n",
    "    return df"
   ]
  },
  {
   "cell_type": "code",
   "execution_count": 7,
   "metadata": {
    "ExecuteTime": {
     "end_time": "2024-03-19T07:38:23.644425Z",
     "start_time": "2024-03-19T07:38:23.159418Z"
    }
   },
   "outputs": [],
   "source": [
    "total_df = pd.concat((train_df,test_df), axis=0)\n",
    "total_df = feature_engineer(total_df)"
   ]
  },
  {
   "cell_type": "markdown",
   "metadata": {},
   "source": [
    "<h3>gap特征</h3>"
   ]
  },
  {
   "cell_type": "code",
   "execution_count": 8,
   "id": "9d3f521d",
   "metadata": {
    "ExecuteTime": {
     "end_time": "2024-03-19T07:38:36.360951Z",
     "start_time": "2024-03-19T07:38:23.646425Z"
    },
    "execution": {
     "iopub.execute_input": "2024-03-10T13:02:36.067024Z",
     "iopub.status.busy": "2024-03-10T13:02:36.066537Z",
     "iopub.status.idle": "2024-03-10T13:02:46.126195Z",
     "shell.execute_reply": "2024-03-10T13:02:46.124864Z"
    },
    "papermill": {
     "duration": 10.069991,
     "end_time": "2024-03-10T13:02:46.129064",
     "exception": false,
     "start_time": "2024-03-10T13:02:36.059073",
     "status": "completed"
    },
    "tags": []
   },
   "outputs": [
    {
     "name": "stderr",
     "output_type": "stream",
     "text": [
      "2024-03-19 15:38:23,648 : INFO : 特征气压(Pa）的1gap\n",
      "2024-03-19 15:38:23,726 : INFO : 特征相对湿度（%）的1gap\n",
      "2024-03-19 15:38:23,801 : INFO : 特征云量的1gap\n",
      "2024-03-19 15:38:23,881 : INFO : 特征10米风速（10m/s）的1gap\n",
      "2024-03-19 15:38:23,961 : INFO : 特征10米风向（°)的1gap\n",
      "2024-03-19 15:38:24,044 : INFO : 特征温度（K）的1gap\n",
      "2024-03-19 15:38:24,125 : INFO : 特征辐照强度（J/m2）的1gap\n",
      "2024-03-19 15:38:24,210 : INFO : 特征降水（m）的1gap\n",
      "2024-03-19 15:38:24,297 : INFO : 特征100m风速（100m/s）的1gap\n",
      "2024-03-19 15:38:24,387 : INFO : 特征100m风向（°)的1gap\n",
      "2024-03-19 15:38:24,478 : INFO : 特征气压(Pa）的2gap\n",
      "2024-03-19 15:38:24,572 : INFO : 特征相对湿度（%）的2gap\n",
      "2024-03-19 15:38:24,673 : INFO : 特征云量的2gap\n",
      "2024-03-19 15:38:24,774 : INFO : 特征10米风速（10m/s）的2gap\n",
      "2024-03-19 15:38:24,876 : INFO : 特征10米风向（°)的2gap\n",
      "2024-03-19 15:38:24,979 : INFO : 特征温度（K）的2gap\n",
      "2024-03-19 15:38:25,083 : INFO : 特征辐照强度（J/m2）的2gap\n",
      "2024-03-19 15:38:25,188 : INFO : 特征降水（m）的2gap\n",
      "2024-03-19 15:38:25,297 : INFO : 特征100m风速（100m/s）的2gap\n",
      "2024-03-19 15:38:25,409 : INFO : 特征100m风向（°)的2gap\n",
      "2024-03-19 15:38:25,522 : INFO : 特征气压(Pa）的4gap\n",
      "2024-03-19 15:38:25,637 : INFO : 特征相对湿度（%）的4gap\n",
      "2024-03-19 15:38:25,756 : INFO : 特征云量的4gap\n",
      "2024-03-19 15:38:25,880 : INFO : 特征10米风速（10m/s）的4gap\n",
      "2024-03-19 15:38:26,001 : INFO : 特征10米风向（°)的4gap\n",
      "2024-03-19 15:38:26,124 : INFO : 特征温度（K）的4gap\n",
      "2024-03-19 15:38:26,249 : INFO : 特征辐照强度（J/m2）的4gap\n",
      "2024-03-19 15:38:26,385 : INFO : 特征降水（m）的4gap\n",
      "2024-03-19 15:38:26,517 : INFO : 特征100m风速（100m/s）的4gap\n",
      "2024-03-19 15:38:26,650 : INFO : 特征100m风向（°)的4gap\n",
      "2024-03-19 15:38:26,785 : INFO : 特征气压(Pa）的7gap\n",
      "2024-03-19 15:38:26,922 : INFO : 特征相对湿度（%）的7gap\n",
      "2024-03-19 15:38:27,060 : INFO : 特征云量的7gap\n",
      "2024-03-19 15:38:27,201 : INFO : 特征10米风速（10m/s）的7gap\n",
      "2024-03-19 15:38:27,345 : INFO : 特征10米风向（°)的7gap\n",
      "2024-03-19 15:38:27,490 : INFO : 特征温度（K）的7gap\n",
      "2024-03-19 15:38:27,638 : INFO : 特征辐照强度（J/m2）的7gap\n",
      "2024-03-19 15:38:27,788 : INFO : 特征降水（m）的7gap\n",
      "2024-03-19 15:38:27,943 : INFO : 特征100m风速（100m/s）的7gap\n",
      "2024-03-19 15:38:28,097 : INFO : 特征100m风向（°)的7gap\n",
      "2024-03-19 15:38:28,254 : INFO : 特征气压(Pa）的15gap\n",
      "2024-03-19 15:38:28,413 : INFO : 特征相对湿度（%）的15gap\n",
      "2024-03-19 15:38:28,574 : INFO : 特征云量的15gap\n",
      "2024-03-19 15:38:28,739 : INFO : 特征10米风速（10m/s）的15gap\n",
      "2024-03-19 15:38:28,905 : INFO : 特征10米风向（°)的15gap\n",
      "2024-03-19 15:38:29,072 : INFO : 特征温度（K）的15gap\n",
      "2024-03-19 15:38:29,241 : INFO : 特征辐照强度（J/m2）的15gap\n",
      "2024-03-19 15:38:29,417 : INFO : 特征降水（m）的15gap\n",
      "2024-03-19 15:38:29,591 : INFO : 特征100m风速（100m/s）的15gap\n",
      "2024-03-19 15:38:29,768 : INFO : 特征100m风向（°)的15gap\n",
      "2024-03-19 15:38:29,950 : INFO : 特征气压(Pa）的30gap\n",
      "2024-03-19 15:38:30,132 : INFO : 特征相对湿度（%）的30gap\n",
      "2024-03-19 15:38:30,314 : INFO : 特征云量的30gap\n",
      "2024-03-19 15:38:30,500 : INFO : 特征10米风速（10m/s）的30gap\n",
      "2024-03-19 15:38:30,688 : INFO : 特征10米风向（°)的30gap\n",
      "2024-03-19 15:38:30,877 : INFO : 特征温度（K）的30gap\n",
      "2024-03-19 15:38:31,068 : INFO : 特征辐照强度（J/m2）的30gap\n",
      "2024-03-19 15:38:31,261 : INFO : 特征降水（m）的30gap\n",
      "2024-03-19 15:38:31,457 : INFO : 特征100m风速（100m/s）的30gap\n",
      "2024-03-19 15:38:31,655 : INFO : 特征100m风向（°)的30gap\n",
      "2024-03-19 15:38:31,857 : INFO : 特征气压(Pa）的50gap\n",
      "2024-03-19 15:38:32,069 : INFO : 特征相对湿度（%）的50gap\n",
      "2024-03-19 15:38:32,272 : INFO : 特征云量的50gap\n",
      "2024-03-19 15:38:32,481 : INFO : 特征10米风速（10m/s）的50gap\n",
      "2024-03-19 15:38:32,696 : INFO : 特征10米风向（°)的50gap\n",
      "2024-03-19 15:38:32,909 : INFO : 特征温度（K）的50gap\n",
      "2024-03-19 15:38:33,123 : INFO : 特征辐照强度（J/m2）的50gap\n",
      "2024-03-19 15:38:33,338 : INFO : 特征降水（m）的50gap\n",
      "2024-03-19 15:38:33,561 : INFO : 特征100m风速（100m/s）的50gap\n",
      "2024-03-19 15:38:33,781 : INFO : 特征100m风向（°)的50gap\n",
      "2024-03-19 15:38:34,004 : INFO : 特征气压(Pa）的80gap\n",
      "2024-03-19 15:38:34,229 : INFO : 特征相对湿度（%）的80gap\n",
      "2024-03-19 15:38:34,457 : INFO : 特征云量的80gap\n",
      "2024-03-19 15:38:34,687 : INFO : 特征10米风速（10m/s）的80gap\n",
      "2024-03-19 15:38:34,918 : INFO : 特征10米风向（°)的80gap\n",
      "2024-03-19 15:38:35,151 : INFO : 特征温度（K）的80gap\n",
      "2024-03-19 15:38:35,400 : INFO : 特征辐照强度（J/m2）的80gap\n",
      "2024-03-19 15:38:35,635 : INFO : 特征降水（m）的80gap\n",
      "2024-03-19 15:38:35,875 : INFO : 特征100m风速（100m/s）的80gap\n",
      "2024-03-19 15:38:36,116 : INFO : 特征100m风向（°)的80gap\n"
     ]
    }
   ],
   "source": [
    "gaps = [1, 2, 4, 7, 15, 30, 50, 80]\n",
    "for gap in gaps:\n",
    "    for col in ['气压(Pa）', '相对湿度（%）', '云量', '10米风速（10m/s）', '10米风向（°)', '温度（K）', '辐照强度（J/m2）', '降水（m）', '100m风速（100m/s）', '100m风向（°)']:\n",
    "        logging.info(f\"特征{col}的{gap}gap\")\n",
    "        total_df[col + f\"_shift{gap}\"] = total_df[col].groupby(total_df['站点编号']).shift(gap)\n",
    "        total_df[col + f\"_gap{gap}\"] = total_df[col+f\"_shift{gap}\"] - total_df[col]\n",
    "        total_df.drop([col + f\"_shift{gap}\"], axis=1, inplace=True)"
   ]
  },
  {
   "cell_type": "markdown",
   "metadata": {},
   "source": [
    "<h3>onehot特征</h3>"
   ]
  },
  {
   "cell_type": "code",
   "execution_count": 9,
   "metadata": {
    "ExecuteTime": {
     "end_time": "2024-03-19T07:38:36.511943Z",
     "start_time": "2024-03-19T07:38:36.361951Z"
    }
   },
   "outputs": [
    {
     "name": "stderr",
     "output_type": "stream",
     "text": [
      "2024-03-19 15:38:36,363 : INFO : 特征站点编号的onehot\n"
     ]
    }
   ],
   "source": [
    "for col in ['站点编号']:\n",
    "    logging.info(f\"特征{col}的onehot\")\n",
    "    unique_value = total_df[col].unique()\n",
    "    for value in unique_value:\n",
    "        total_df[col + \"_\" + str(value)] = (total_df[col] == value)\n",
    "    total_df.drop([col], axis=1, inplace=True)"
   ]
  },
  {
   "cell_type": "markdown",
   "metadata": {},
   "source": [
    "<h3>处理缺失值</h3>"
   ]
  },
  {
   "cell_type": "code",
   "execution_count": 10,
   "metadata": {
    "ExecuteTime": {
     "end_time": "2024-03-19T07:38:36.744951Z",
     "start_time": "2024-03-19T07:38:36.512952Z"
    }
   },
   "outputs": [
    {
     "data": {
      "text/html": [
       "<div>\n",
       "<style scoped>\n",
       "    .dataframe tbody tr th:only-of-type {\n",
       "        vertical-align: middle;\n",
       "    }\n",
       "\n",
       "    .dataframe tbody tr th {\n",
       "        vertical-align: top;\n",
       "    }\n",
       "\n",
       "    .dataframe thead th {\n",
       "        text-align: right;\n",
       "    }\n",
       "</style>\n",
       "<table border=\"1\" class=\"dataframe\">\n",
       "  <thead>\n",
       "    <tr style=\"text-align: right;\">\n",
       "      <th></th>\n",
       "      <th>气压(Pa）</th>\n",
       "      <th>相对湿度（%）</th>\n",
       "      <th>云量</th>\n",
       "      <th>10米风速（10m/s）</th>\n",
       "      <th>10米风向（°)</th>\n",
       "      <th>温度（K）</th>\n",
       "      <th>辐照强度（J/m2）</th>\n",
       "      <th>降水（m）</th>\n",
       "      <th>100m风速（100m/s）</th>\n",
       "      <th>100m风向（°)</th>\n",
       "      <th>...</th>\n",
       "      <th>温度（K）_gap80</th>\n",
       "      <th>辐照强度（J/m2）_gap80</th>\n",
       "      <th>降水（m）_gap80</th>\n",
       "      <th>100m风速（100m/s）_gap80</th>\n",
       "      <th>100m风向（°)_gap80</th>\n",
       "      <th>站点编号_f1</th>\n",
       "      <th>站点编号_f2</th>\n",
       "      <th>站点编号_f3</th>\n",
       "      <th>站点编号_f4</th>\n",
       "      <th>站点编号_f5</th>\n",
       "    </tr>\n",
       "  </thead>\n",
       "  <tbody>\n",
       "    <tr>\n",
       "      <th>0</th>\n",
       "      <td>101309.6250</td>\n",
       "      <td>84.3487</td>\n",
       "      <td>0.67969</td>\n",
       "      <td>4.7181</td>\n",
       "      <td>18.4066</td>\n",
       "      <td>16.8791</td>\n",
       "      <td>0.0</td>\n",
       "      <td>0.003588</td>\n",
       "      <td>5.5467</td>\n",
       "      <td>20.4047</td>\n",
       "      <td>...</td>\n",
       "      <td>-0.5495</td>\n",
       "      <td>0.0</td>\n",
       "      <td>0.029327</td>\n",
       "      <td>4.1642</td>\n",
       "      <td>26.7224</td>\n",
       "      <td>True</td>\n",
       "      <td>False</td>\n",
       "      <td>False</td>\n",
       "      <td>False</td>\n",
       "      <td>False</td>\n",
       "    </tr>\n",
       "    <tr>\n",
       "      <th>1</th>\n",
       "      <td>101303.2590</td>\n",
       "      <td>84.4800</td>\n",
       "      <td>0.65654</td>\n",
       "      <td>4.7575</td>\n",
       "      <td>18.2344</td>\n",
       "      <td>16.8530</td>\n",
       "      <td>0.0</td>\n",
       "      <td>0.000739</td>\n",
       "      <td>5.5886</td>\n",
       "      <td>20.1468</td>\n",
       "      <td>...</td>\n",
       "      <td>-0.5239</td>\n",
       "      <td>0.0</td>\n",
       "      <td>0.032183</td>\n",
       "      <td>4.1283</td>\n",
       "      <td>26.2132</td>\n",
       "      <td>True</td>\n",
       "      <td>False</td>\n",
       "      <td>False</td>\n",
       "      <td>False</td>\n",
       "      <td>False</td>\n",
       "    </tr>\n",
       "    <tr>\n",
       "      <th>2</th>\n",
       "      <td>101291.8681</td>\n",
       "      <td>84.1823</td>\n",
       "      <td>0.61713</td>\n",
       "      <td>4.7772</td>\n",
       "      <td>16.0279</td>\n",
       "      <td>16.8286</td>\n",
       "      <td>0.0</td>\n",
       "      <td>0.000641</td>\n",
       "      <td>5.6422</td>\n",
       "      <td>17.9834</td>\n",
       "      <td>...</td>\n",
       "      <td>-0.4943</td>\n",
       "      <td>0.0</td>\n",
       "      <td>0.032281</td>\n",
       "      <td>4.1263</td>\n",
       "      <td>27.5775</td>\n",
       "      <td>True</td>\n",
       "      <td>False</td>\n",
       "      <td>False</td>\n",
       "      <td>False</td>\n",
       "      <td>False</td>\n",
       "    </tr>\n",
       "    <tr>\n",
       "      <th>3</th>\n",
       "      <td>101277.4571</td>\n",
       "      <td>83.5966</td>\n",
       "      <td>0.58752</td>\n",
       "      <td>4.7852</td>\n",
       "      <td>12.8178</td>\n",
       "      <td>16.7995</td>\n",
       "      <td>0.0</td>\n",
       "      <td>0.002015</td>\n",
       "      <td>5.6978</td>\n",
       "      <td>14.9278</td>\n",
       "      <td>...</td>\n",
       "      <td>-0.4570</td>\n",
       "      <td>0.0</td>\n",
       "      <td>0.030903</td>\n",
       "      <td>4.1251</td>\n",
       "      <td>29.7502</td>\n",
       "      <td>True</td>\n",
       "      <td>False</td>\n",
       "      <td>False</td>\n",
       "      <td>False</td>\n",
       "      <td>False</td>\n",
       "    </tr>\n",
       "    <tr>\n",
       "      <th>4</th>\n",
       "      <td>101262.0313</td>\n",
       "      <td>82.8641</td>\n",
       "      <td>0.59375</td>\n",
       "      <td>4.7795</td>\n",
       "      <td>9.6014</td>\n",
       "      <td>16.7596</td>\n",
       "      <td>0.0</td>\n",
       "      <td>0.003588</td>\n",
       "      <td>5.7344</td>\n",
       "      <td>11.9240</td>\n",
       "      <td>...</td>\n",
       "      <td>-0.4092</td>\n",
       "      <td>0.0</td>\n",
       "      <td>0.029327</td>\n",
       "      <td>4.1039</td>\n",
       "      <td>31.7221</td>\n",
       "      <td>True</td>\n",
       "      <td>False</td>\n",
       "      <td>False</td>\n",
       "      <td>False</td>\n",
       "      <td>False</td>\n",
       "    </tr>\n",
       "  </tbody>\n",
       "</table>\n",
       "<p>5 rows × 120 columns</p>\n",
       "</div>"
      ],
      "text/plain": [
       "        气压(Pa）  相对湿度（%）       云量  10米风速（10m/s）  10米风向（°)    温度（K）  辐照强度（J/m2）  \\\n",
       "0  101309.6250  84.3487  0.67969        4.7181   18.4066  16.8791         0.0   \n",
       "1  101303.2590  84.4800  0.65654        4.7575   18.2344  16.8530         0.0   \n",
       "2  101291.8681  84.1823  0.61713        4.7772   16.0279  16.8286         0.0   \n",
       "3  101277.4571  83.5966  0.58752        4.7852   12.8178  16.7995         0.0   \n",
       "4  101262.0313  82.8641  0.59375        4.7795    9.6014  16.7596         0.0   \n",
       "\n",
       "      降水（m）  100m风速（100m/s）  100m风向（°)  ...  温度（K）_gap80  辐照强度（J/m2）_gap80  \\\n",
       "0  0.003588          5.5467    20.4047  ...      -0.5495               0.0   \n",
       "1  0.000739          5.5886    20.1468  ...      -0.5239               0.0   \n",
       "2  0.000641          5.6422    17.9834  ...      -0.4943               0.0   \n",
       "3  0.002015          5.6978    14.9278  ...      -0.4570               0.0   \n",
       "4  0.003588          5.7344    11.9240  ...      -0.4092               0.0   \n",
       "\n",
       "   降水（m）_gap80  100m风速（100m/s）_gap80  100m风向（°)_gap80  站点编号_f1  站点编号_f2  \\\n",
       "0     0.029327                4.1642          26.7224     True    False   \n",
       "1     0.032183                4.1283          26.2132     True    False   \n",
       "2     0.032281                4.1263          27.5775     True    False   \n",
       "3     0.030903                4.1251          29.7502     True    False   \n",
       "4     0.029327                4.1039          31.7221     True    False   \n",
       "\n",
       "   站点编号_f3  站点编号_f4  站点编号_f5  \n",
       "0    False    False    False  \n",
       "1    False    False    False  \n",
       "2    False    False    False  \n",
       "3    False    False    False  \n",
       "4    False    False    False  \n",
       "\n",
       "[5 rows x 120 columns]"
      ]
     },
     "execution_count": 10,
     "metadata": {},
     "output_type": "execute_result"
    }
   ],
   "source": [
    "train_df = total_df[:len(train_df)].copy()\n",
    "test_df = total_df[len(train_df):].copy()\n",
    "train_df.dropna(inplace=True)\n",
    "test_df.head()"
   ]
  },
  {
   "cell_type": "markdown",
   "metadata": {},
   "source": [
    "<h2>训练模型</h2>"
   ]
  },
  {
   "cell_type": "markdown",
   "metadata": {},
   "source": [
    "<h3>定义测评指标</h3>"
   ]
  },
  {
   "cell_type": "code",
   "execution_count": 11,
   "id": "d2293040",
   "metadata": {
    "ExecuteTime": {
     "end_time": "2024-03-19T07:38:36.748956Z",
     "start_time": "2024-03-19T07:38:36.745951Z"
    },
    "execution": {
     "iopub.execute_input": "2024-03-10T13:02:46.146882Z",
     "iopub.status.busy": "2024-03-10T13:02:46.145434Z",
     "iopub.status.idle": "2024-03-10T13:02:47.078128Z",
     "shell.execute_reply": "2024-03-10T13:02:47.077317Z"
    },
    "papermill": {
     "duration": 0.945923,
     "end_time": "2024-03-10T13:02:47.082409",
     "exception": false,
     "start_time": "2024-03-10T13:02:46.136486",
     "status": "completed"
    },
    "tags": []
   },
   "outputs": [],
   "source": [
    "#对train_feats做交叉验证,然后用\n",
    "def RMSE(y_true, y_pred):\n",
    "    return  np.sqrt(np.mean((y_true - y_pred) ** 2))\n",
    "def metric(y_true, y_pred):\n",
    "    rmses = []\n",
    "    for i in range(0, len(y_true), len(y_true) // 5):\n",
    "        rmse = RMSE(y_true[i : i+len(y_true) // 5], y_pred[i : i+len(y_true) // 5])\n",
    "        rmses.append(rmse)\n",
    "    return np.mean(np.array(rmses))"
   ]
  },
  {
   "cell_type": "markdown",
   "metadata": {},
   "source": [
    "<h3>lightgbm</h3>"
   ]
  },
  {
   "cell_type": "code",
   "execution_count": 12,
   "metadata": {
    "ExecuteTime": {
     "end_time": "2024-03-19T07:38:37.144952Z",
     "start_time": "2024-03-19T07:38:36.749948Z"
    }
   },
   "outputs": [],
   "source": [
    "#训练数据选择的是2022年1月到2023年1月\n",
    "train_feats = train_df[((train_df['year'] == 2022)) | ((train_df['year'] == 2023) & (train_df['month'] == 1))].copy()\n",
    "#将表格数据打乱,不按照时间顺序排列\n",
    "train_feats = train_feats.sample(frac=1).reset_index(drop=True)\n",
    "#验证集选择的是2023年2月到2023年4月\n",
    "valid_feats = train_df[(train_df['year'] == 2023) & (train_df['month'] > 1)].copy()\n",
    "#年份和相对湿度基本和target无关\n",
    "train_feats.drop(drop_cols, axis=1, inplace=True)\n",
    "valid_feats.drop(drop_cols, axis=1, inplace=True)\n",
    "\n",
    "# import optuna#自动超参数优化软件框架\n",
    "\n",
    "# def objective(trial):\n",
    "#     lgb_params = {\n",
    "#         \"verbosity\": -1,'objective': 'regression',\n",
    "#         'metric': 'rmse','boosting_type': 'gbdt',\n",
    "#         'random_state': Config.seed,\n",
    "#         'n_estimators': trial.suggest_int('n_estimators', 50, 200),\n",
    "#         'reg_alpha': trial.suggest_loguniform('reg_alpha', 1e-3, 10.0),\n",
    "#         'reg_lambda': trial.suggest_loguniform('reg_lambda', 1e-3, 10.0),#对数分布的建议值\n",
    "#         'colsample_bytree': trial.suggest_float('colsample_bytree', 0.5, 1),#浮点数\n",
    "#         'subsample': trial.suggest_float('subsample', 0.5, 1),\n",
    "#         'learning_rate': trial.suggest_float('learning_rate', 1e-4, 0.5, log=True),\n",
    "#         'num_leaves' : trial.suggest_int('num_leaves', 8, 64),#整数\n",
    "#         'min_child_samples': trial.suggest_int('min_child_samples', 1, 100),\n",
    "#     }\n",
    "#     X=train_feats.drop([Config.target],axis=1).copy()\n",
    "#     y=train_feats[Config.target].copy()\n",
    "#     test_X=valid_feats.drop([Config.target],axis=1).values.copy()\n",
    "#     test_y=valid_feats[Config.target].values.copy()\n",
    "#     test_preds=np.zeros((Config.num_folds,len(test_X)))\n",
    "#     # 初始化 KFold\n",
    "#     kf = KFold(n_splits=Config.num_folds, shuffle=True,random_state=Config.seed)\n",
    "#     # 进行 k 折交叉验证\n",
    "#     for fold, (train_index, valid_index) in (enumerate(kf.split(X))):\n",
    "#         X_train, X_valid = X.iloc[train_index], X.iloc[valid_index]\n",
    "#         y_train, y_valid = y.iloc[train_index], y.iloc[valid_index]\n",
    "\n",
    "#         model=LGBMRegressor(**lgb_params)\n",
    "#         model.fit(X_train,y_train)\n",
    "#         test_preds[fold]=model.predict(test_X)\n",
    "#     test_preds=test_preds.mean(axis=0)\n",
    "#     mean_rmse=metric(test_y,test_preds)\n",
    "#     return mean_rmse\n",
    "# #创建的研究命名,找最小值.\n",
    "# study = optuna.create_study(direction='minimize', study_name='Optimize boosting hyperparameters')\n",
    "# #目标函数,尝试的次数\n",
    "# study.optimize(objective, n_trials=50)\n",
    "# lgb_params=study.best_trial.params\n",
    "#Best is trial 29 with value: 15.058260259234075.\n",
    "lgb_params = {\n",
    "    'n_estimators': 75, \n",
    "    'reg_alpha': 0.022825982577566684, \n",
    "    'reg_lambda': 5.284325352952156, \n",
    "    'colsample_bytree': 0.8286196779453388,\n",
    "    'subsample': 0.8853286861359038, \n",
    "    'learning_rate': 0.2484233791090533,   \n",
    "    'num_leaves': 31, \n",
    "    'min_child_samples': 200, \n",
    "    'objective': 'regression', \n",
    "    'metric': 'rmse',\n",
    "    'boosting_type': \"gbdt\", \n",
    "    'random_state': 2024\n",
    "}"
   ]
  },
  {
   "cell_type": "code",
   "execution_count": 13,
   "id": "1fe3cc3e",
   "metadata": {
    "ExecuteTime": {
     "end_time": "2024-03-19T07:39:07.846023Z",
     "start_time": "2024-03-19T07:38:37.145953Z"
    },
    "execution": {
     "iopub.execute_input": "2024-03-10T13:02:47.100448Z",
     "iopub.status.busy": "2024-03-10T13:02:47.100027Z",
     "iopub.status.idle": "2024-03-10T13:06:24.961662Z",
     "shell.execute_reply": "2024-03-10T13:06:24.960374Z"
    },
    "papermill": {
     "duration": 217.874257,
     "end_time": "2024-03-10T13:06:24.964728",
     "exception": false,
     "start_time": "2024-03-10T13:02:47.090471",
     "status": "completed"
    },
    "scrolled": false,
    "tags": []
   },
   "outputs": [
    {
     "name": "stderr",
     "output_type": "stream",
     "text": [
      "2024-03-19 15:38:37,355 : INFO : ########fold:0########\n",
      "C:\\Program Files\\Python37\\lib\\site-packages\\lightgbm\\engine.py:177: UserWarning: Found `n_estimators` in params. Will use it instead of argument\n",
      "  _log_warning(f\"Found `{alias}` in params. Will use it instead of argument\")\n"
     ]
    },
    {
     "name": "stdout",
     "output_type": "stream",
     "text": [
      "[LightGBM] [Warning] Auto-choosing col-wise multi-threading, the overhead of testing was 0.039680 seconds.\n",
      "You can set `force_col_wise=true` to remove the overhead.\n",
      "[LightGBM] [Info] Total Bins 24311\n",
      "[LightGBM] [Info] Number of data points in the train set: 212153, number of used features: 117\n",
      "[LightGBM] [Info] Start training from score 36.552821\n",
      "Training until validation scores don't improve for 100 rounds\n"
     ]
    },
    {
     "name": "stderr",
     "output_type": "stream",
     "text": [
      "2024-03-19 15:38:39,707 : INFO : ########fold:1########\n"
     ]
    },
    {
     "name": "stdout",
     "output_type": "stream",
     "text": [
      "Did not meet early stopping. Best iteration is:\n",
      "[75]\tvalid_0's rmse: 14.5902\n",
      "[LightGBM] [Warning] Auto-choosing col-wise multi-threading, the overhead of testing was 0.054003 seconds.\n",
      "You can set `force_col_wise=true` to remove the overhead.\n",
      "[LightGBM] [Info] Total Bins 24311\n",
      "[LightGBM] [Info] Number of data points in the train set: 212153, number of used features: 117\n",
      "[LightGBM] [Info] Start training from score 36.539215\n",
      "Training until validation scores don't improve for 100 rounds\n"
     ]
    },
    {
     "name": "stderr",
     "output_type": "stream",
     "text": [
      "2024-03-19 15:38:42,151 : INFO : ########fold:2########\n"
     ]
    },
    {
     "name": "stdout",
     "output_type": "stream",
     "text": [
      "Did not meet early stopping. Best iteration is:\n",
      "[75]\tvalid_0's rmse: 15.422\n",
      "[LightGBM] [Warning] Auto-choosing col-wise multi-threading, the overhead of testing was 0.051357 seconds.\n",
      "You can set `force_col_wise=true` to remove the overhead.\n",
      "[LightGBM] [Info] Total Bins 24311\n",
      "[LightGBM] [Info] Number of data points in the train set: 212153, number of used features: 117\n",
      "[LightGBM] [Info] Start training from score 36.535811\n",
      "Training until validation scores don't improve for 100 rounds\n"
     ]
    },
    {
     "name": "stderr",
     "output_type": "stream",
     "text": [
      "2024-03-19 15:38:44,668 : INFO : ########fold:3########\n"
     ]
    },
    {
     "name": "stdout",
     "output_type": "stream",
     "text": [
      "Did not meet early stopping. Best iteration is:\n",
      "[75]\tvalid_0's rmse: 15.1575\n",
      "[LightGBM] [Warning] Auto-choosing col-wise multi-threading, the overhead of testing was 0.049604 seconds.\n",
      "You can set `force_col_wise=true` to remove the overhead.\n",
      "[LightGBM] [Info] Total Bins 24311\n",
      "[LightGBM] [Info] Number of data points in the train set: 212153, number of used features: 117\n",
      "[LightGBM] [Info] Start training from score 36.528507\n",
      "Training until validation scores don't improve for 100 rounds\n"
     ]
    },
    {
     "name": "stderr",
     "output_type": "stream",
     "text": [
      "2024-03-19 15:38:47,177 : INFO : ########fold:4########\n"
     ]
    },
    {
     "name": "stdout",
     "output_type": "stream",
     "text": [
      "Did not meet early stopping. Best iteration is:\n",
      "[75]\tvalid_0's rmse: 14.85\n",
      "[LightGBM] [Warning] Auto-choosing col-wise multi-threading, the overhead of testing was 0.041048 seconds.\n",
      "You can set `force_col_wise=true` to remove the overhead.\n",
      "[LightGBM] [Info] Total Bins 24311\n",
      "[LightGBM] [Info] Number of data points in the train set: 212153, number of used features: 117\n",
      "[LightGBM] [Info] Start training from score 36.561543\n",
      "Training until validation scores don't improve for 100 rounds\n"
     ]
    },
    {
     "name": "stderr",
     "output_type": "stream",
     "text": [
      "2024-03-19 15:38:49,648 : INFO : ########fold:5########\n"
     ]
    },
    {
     "name": "stdout",
     "output_type": "stream",
     "text": [
      "Did not meet early stopping. Best iteration is:\n",
      "[75]\tvalid_0's rmse: 15.2219\n",
      "[LightGBM] [Warning] Auto-choosing col-wise multi-threading, the overhead of testing was 0.044737 seconds.\n",
      "You can set `force_col_wise=true` to remove the overhead.\n",
      "[LightGBM] [Info] Total Bins 24311\n",
      "[LightGBM] [Info] Number of data points in the train set: 212153, number of used features: 117\n",
      "[LightGBM] [Info] Start training from score 36.547062\n",
      "Training until validation scores don't improve for 100 rounds\n"
     ]
    },
    {
     "name": "stderr",
     "output_type": "stream",
     "text": [
      "2024-03-19 15:38:52,133 : INFO : ########fold:6########\n"
     ]
    },
    {
     "name": "stdout",
     "output_type": "stream",
     "text": [
      "Did not meet early stopping. Best iteration is:\n",
      "[75]\tvalid_0's rmse: 15.0393\n",
      "[LightGBM] [Warning] Auto-choosing col-wise multi-threading, the overhead of testing was 0.049898 seconds.\n",
      "You can set `force_col_wise=true` to remove the overhead.\n",
      "[LightGBM] [Info] Total Bins 24311\n",
      "[LightGBM] [Info] Number of data points in the train set: 212153, number of used features: 117\n",
      "[LightGBM] [Info] Start training from score 36.585859\n",
      "Training until validation scores don't improve for 100 rounds\n"
     ]
    },
    {
     "name": "stderr",
     "output_type": "stream",
     "text": [
      "2024-03-19 15:38:54,660 : INFO : ########fold:7########\n"
     ]
    },
    {
     "name": "stdout",
     "output_type": "stream",
     "text": [
      "Did not meet early stopping. Best iteration is:\n",
      "[75]\tvalid_0's rmse: 14.9536\n",
      "[LightGBM] [Warning] Auto-choosing col-wise multi-threading, the overhead of testing was 0.044156 seconds.\n",
      "You can set `force_col_wise=true` to remove the overhead.\n",
      "[LightGBM] [Info] Total Bins 24311\n",
      "[LightGBM] [Info] Number of data points in the train set: 212153, number of used features: 117\n",
      "[LightGBM] [Info] Start training from score 36.591897\n",
      "Training until validation scores don't improve for 100 rounds\n"
     ]
    },
    {
     "name": "stderr",
     "output_type": "stream",
     "text": [
      "2024-03-19 15:38:57,144 : INFO : ########fold:8########\n"
     ]
    },
    {
     "name": "stdout",
     "output_type": "stream",
     "text": [
      "Did not meet early stopping. Best iteration is:\n",
      "[75]\tvalid_0's rmse: 14.9136\n",
      "[LightGBM] [Warning] Auto-choosing col-wise multi-threading, the overhead of testing was 0.040675 seconds.\n",
      "You can set `force_col_wise=true` to remove the overhead.\n",
      "[LightGBM] [Info] Total Bins 24311\n",
      "[LightGBM] [Info] Number of data points in the train set: 212154, number of used features: 117\n",
      "[LightGBM] [Info] Start training from score 36.587312\n",
      "Training until validation scores don't improve for 100 rounds\n"
     ]
    },
    {
     "name": "stderr",
     "output_type": "stream",
     "text": [
      "2024-03-19 15:38:59,659 : INFO : ########fold:9########\n"
     ]
    },
    {
     "name": "stdout",
     "output_type": "stream",
     "text": [
      "Did not meet early stopping. Best iteration is:\n",
      "[75]\tvalid_0's rmse: 14.5317\n",
      "[LightGBM] [Warning] Auto-choosing col-wise multi-threading, the overhead of testing was 0.043912 seconds.\n",
      "You can set `force_col_wise=true` to remove the overhead.\n",
      "[LightGBM] [Info] Total Bins 24311\n",
      "[LightGBM] [Info] Number of data points in the train set: 212154, number of used features: 117\n",
      "[LightGBM] [Info] Start training from score 36.548654\n",
      "Training until validation scores don't improve for 100 rounds\n"
     ]
    },
    {
     "name": "stderr",
     "output_type": "stream",
     "text": [
      "2024-03-19 15:39:02,154 : INFO : ########fold:10########\n"
     ]
    },
    {
     "name": "stdout",
     "output_type": "stream",
     "text": [
      "Did not meet early stopping. Best iteration is:\n",
      "[75]\tvalid_0's rmse: 15.0408\n",
      "[LightGBM] [Warning] Auto-choosing col-wise multi-threading, the overhead of testing was 0.051048 seconds.\n",
      "You can set `force_col_wise=true` to remove the overhead.\n",
      "[LightGBM] [Info] Total Bins 24311\n",
      "[LightGBM] [Info] Number of data points in the train set: 212154, number of used features: 117\n",
      "[LightGBM] [Info] Start training from score 36.492626\n",
      "Training until validation scores don't improve for 100 rounds\n"
     ]
    },
    {
     "name": "stderr",
     "output_type": "stream",
     "text": [
      "2024-03-19 15:39:05,005 : INFO : ########fold:11########\n"
     ]
    },
    {
     "name": "stdout",
     "output_type": "stream",
     "text": [
      "Did not meet early stopping. Best iteration is:\n",
      "[75]\tvalid_0's rmse: 15.335\n",
      "[LightGBM] [Warning] Auto-choosing col-wise multi-threading, the overhead of testing was 0.052812 seconds.\n",
      "You can set `force_col_wise=true` to remove the overhead.\n",
      "[LightGBM] [Info] Total Bins 24311\n",
      "[LightGBM] [Info] Number of data points in the train set: 212154, number of used features: 117\n",
      "[LightGBM] [Info] Start training from score 36.586447\n",
      "Training until validation scores don't improve for 100 rounds\n",
      "Did not meet early stopping. Best iteration is:\n",
      "[75]\tvalid_0's rmse: 15.3931\n"
     ]
    }
   ],
   "source": [
    "train_df.drop(drop_cols, axis=1, inplace=True)\n",
    "test_df.drop(drop_cols, axis=1, inplace=True)\n",
    "model_lgb = []\n",
    "x = train_df.drop([Config.target], axis=1).copy()\n",
    "y = train_df[Config.target].copy()\n",
    "# 初始化 KFold\n",
    "kf = KFold(n_splits=Config.num_folds, shuffle=True, random_state=Config.seed)\n",
    "# 进行 k 折交叉验证\n",
    "for fold, (train_index, valid_index) in (enumerate(kf.split(x))):\n",
    "    logging.info(f\"########fold:{fold}########\")\n",
    "    x_train, x_valid = x.iloc[train_index], x.iloc[valid_index]\n",
    "    y_train, y_valid = y.iloc[train_index], y.iloc[valid_index]\n",
    "\n",
    "    \n",
    "    trainset = Dataset(x_train, y_train)\n",
    "    valset = Dataset(x_valid, y_valid)\n",
    "    model = lgb.train(lgb_params, trainset, valid_sets=[valset], callbacks=[lgb.log_evaluation(1000), lgb.early_stopping(100)])\n",
    "    model.save_model(\"../models/lgb_%d.txt\" % fold)\n",
    "    model_lgb.append(model)    "
   ]
  },
  {
   "cell_type": "markdown",
   "metadata": {},
   "source": [
    "<h2>预测</h2>"
   ]
  },
  {
   "cell_type": "markdown",
   "metadata": {},
   "source": [
    "<h3>预测结果</h3>"
   ]
  },
  {
   "cell_type": "code",
   "execution_count": 14,
   "metadata": {
    "ExecuteTime": {
     "end_time": "2024-03-19T07:39:11.144211Z",
     "start_time": "2024-03-19T07:39:07.848023Z"
    }
   },
   "outputs": [],
   "source": [
    "test_x = test_df.drop([Config.target],axis=1)\n",
    "test_preds = np.zeros((Config.num_folds,len(test_x)))\n",
    "for fold in range(kf.n_splits):\n",
    "    model = model_lgb[fold]\n",
    "    test_preds[fold] = model.predict(test_x, num_iteration=model.best_iteration)"
   ]
  },
  {
   "cell_type": "markdown",
   "metadata": {},
   "source": [
    "<h3>保存结果</h3>"
   ]
  },
  {
   "cell_type": "code",
   "execution_count": 15,
   "id": "9b932159",
   "metadata": {
    "ExecuteTime": {
     "end_time": "2024-03-19T07:39:11.294219Z",
     "start_time": "2024-03-19T07:39:11.146210Z"
    },
    "execution": {
     "iopub.execute_input": "2024-03-10T13:06:24.990014Z",
     "iopub.status.busy": "2024-03-10T13:06:24.989541Z",
     "iopub.status.idle": "2024-03-10T13:06:25.233818Z",
     "shell.execute_reply": "2024-03-10T13:06:25.232648Z"
    },
    "papermill": {
     "duration": 0.259877,
     "end_time": "2024-03-10T13:06:25.236194",
     "exception": false,
     "start_time": "2024-03-10T13:06:24.976317",
     "status": "completed"
    },
    "tags": []
   },
   "outputs": [
    {
     "data": {
      "text/html": [
       "<div>\n",
       "<style scoped>\n",
       "    .dataframe tbody tr th:only-of-type {\n",
       "        vertical-align: middle;\n",
       "    }\n",
       "\n",
       "    .dataframe tbody tr th {\n",
       "        vertical-align: top;\n",
       "    }\n",
       "\n",
       "    .dataframe thead th {\n",
       "        text-align: right;\n",
       "    }\n",
       "</style>\n",
       "<table border=\"1\" class=\"dataframe\">\n",
       "  <thead>\n",
       "    <tr style=\"text-align: right;\">\n",
       "      <th></th>\n",
       "      <th>站点编号</th>\n",
       "      <th>时间</th>\n",
       "      <th>出力(MW)</th>\n",
       "    </tr>\n",
       "  </thead>\n",
       "  <tbody>\n",
       "    <tr>\n",
       "      <th>0</th>\n",
       "      <td>f1</td>\n",
       "      <td>2023-5-1 0:00</td>\n",
       "      <td>4.809747</td>\n",
       "    </tr>\n",
       "    <tr>\n",
       "      <th>1</th>\n",
       "      <td>f1</td>\n",
       "      <td>2023-5-1 0:15</td>\n",
       "      <td>4.264211</td>\n",
       "    </tr>\n",
       "    <tr>\n",
       "      <th>2</th>\n",
       "      <td>f1</td>\n",
       "      <td>2023-5-1 0:30</td>\n",
       "      <td>4.516293</td>\n",
       "    </tr>\n",
       "    <tr>\n",
       "      <th>3</th>\n",
       "      <td>f1</td>\n",
       "      <td>2023-5-1 0:45</td>\n",
       "      <td>5.440273</td>\n",
       "    </tr>\n",
       "    <tr>\n",
       "      <th>4</th>\n",
       "      <td>f1</td>\n",
       "      <td>2023-5-1 1:00</td>\n",
       "      <td>6.461890</td>\n",
       "    </tr>\n",
       "  </tbody>\n",
       "</table>\n",
       "</div>"
      ],
      "text/plain": [
       "  站点编号             时间    出力(MW)\n",
       "0   f1  2023-5-1 0:00  4.809747\n",
       "1   f1  2023-5-1 0:15  4.264211\n",
       "2   f1  2023-5-1 0:30  4.516293\n",
       "3   f1  2023-5-1 0:45  5.440273\n",
       "4   f1  2023-5-1 1:00  6.461890"
      ]
     },
     "execution_count": 15,
     "metadata": {},
     "output_type": "execute_result"
    }
   ],
   "source": [
    "submission = pd.read_csv(Config.path + \"A_submit_example.csv\")  \n",
    "test_preds = test_preds.mean(axis=0)\n",
    "submission['出力(MW)'] = test_preds\n",
    "submission.to_csv(\"../data/%s.csv\" % datetime.now().strftime(\"%Y%m%d_%H%M%S\"), encoding=\"utf-8\", index=False)\n",
    "submission.head()"
   ]
  },
  {
   "cell_type": "code",
   "execution_count": null,
   "metadata": {},
   "outputs": [],
   "source": []
  }
 ],
 "metadata": {
  "kaggle": {
   "accelerator": "none",
   "dataSources": [
    {
     "datasetId": 4477849,
     "sourceId": 7676268,
     "sourceType": "datasetVersion"
    }
   ],
   "isGpuEnabled": false,
   "isInternetEnabled": true,
   "language": "python",
   "sourceType": "notebook"
  },
  "kernelspec": {
   "display_name": "Python 3",
   "language": "python",
   "name": "python3"
  },
  "language_info": {
   "codemirror_mode": {
    "name": "ipython",
    "version": 3
   },
   "file_extension": ".py",
   "mimetype": "text/x-python",
   "name": "python",
   "nbconvert_exporter": "python",
   "pygments_lexer": "ipython3",
   "version": "3.7.3"
  },
  "papermill": {
   "default_parameters": {},
   "duration": 240.119104,
   "end_time": "2024-03-10T13:06:26.372186",
   "environment_variables": {},
   "exception": null,
   "input_path": "__notebook__.ipynb",
   "output_path": "__notebook__.ipynb",
   "parameters": {},
   "start_time": "2024-03-10T13:02:26.253082",
   "version": "2.5.0"
  },
  "toc": {
   "base_numbering": 1,
   "nav_menu": {},
   "number_sections": true,
   "sideBar": true,
   "skip_h1_title": false,
   "title_cell": "Table of Contents",
   "title_sidebar": "Contents",
   "toc_cell": false,
   "toc_position": {},
   "toc_section_display": true,
   "toc_window_display": true
  },
  "varInspector": {
   "cols": {
    "lenName": 16,
    "lenType": 16,
    "lenVar": 40
   },
   "kernels_config": {
    "python": {
     "delete_cmd_postfix": "",
     "delete_cmd_prefix": "del ",
     "library": "var_list.py",
     "varRefreshCmd": "print(var_dic_list())"
    },
    "r": {
     "delete_cmd_postfix": ") ",
     "delete_cmd_prefix": "rm(",
     "library": "var_list.r",
     "varRefreshCmd": "cat(var_dic_list()) "
    }
   },
   "types_to_exclude": [
    "module",
    "function",
    "builtin_function_or_method",
    "instance",
    "_Feature"
   ],
   "window_display": false
  }
 },
 "nbformat": 4,
 "nbformat_minor": 5
}
