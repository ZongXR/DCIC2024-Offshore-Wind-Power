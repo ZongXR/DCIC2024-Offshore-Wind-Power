{
 "cells": [
  {
   "cell_type": "markdown",
   "metadata": {},
   "source": [
    "<h2>导入包</h2>"
   ]
  },
  {
   "cell_type": "code",
   "execution_count": 178,
   "metadata": {
    "ExecuteTime": {
     "end_time": "2024-03-08T02:50:11.806064Z",
     "start_time": "2024-03-08T02:50:11.795067Z"
    }
   },
   "outputs": [],
   "source": [
    "import logging \n",
    "from datetime import datetime\n",
    "import pandas as pd\n",
    "import numpy as np\n",
    "from sklearn.metrics import mean_squared_error as mse\n",
    "from sklearn.model_selection import StratifiedKFold, KFold\n",
    "from sklearn.preprocessing import OneHotEncoder\n",
    "from matplotlib.pyplot import plot, show, title\n",
    "import lightgbm as lgb\n",
    "from lightgbm import Dataset\n",
    "\n",
    "\n",
    "logging.basicConfig(format='%(asctime)s : %(levelname)s : %(message)s', level=logging.INFO)"
   ]
  },
  {
   "cell_type": "markdown",
   "metadata": {},
   "source": [
    "<h2>读取数据</h2>"
   ]
  },
  {
   "cell_type": "code",
   "execution_count": 179,
   "metadata": {
    "ExecuteTime": {
     "end_time": "2024-03-08T02:50:12.203805Z",
     "start_time": "2024-03-08T02:50:11.807065Z"
    }
   },
   "outputs": [],
   "source": [
    "df_train = pd.read_csv('../data/A榜-训练集_海上风电预测_气象变量及实际功率数据.csv', encoding='gbk')\n",
    "df_test = pd.read_csv('../data/A榜-测试集_海上风电预测_气象变量数据.csv', encoding='gbk')\n",
    "\n",
    "add_df = pd.read_csv('../data/A榜-训练集_海上风电预测_基本信息.csv', encoding='gbk')\n",
    "# add_df = pd.read_csv('../data/A榜-训练集_海上风电预测_基本信息.csv')"
   ]
  },
  {
   "cell_type": "code",
   "execution_count": 180,
   "metadata": {
    "ExecuteTime": {
     "end_time": "2024-03-08T02:50:12.219804Z",
     "start_time": "2024-03-08T02:50:12.205804Z"
    }
   },
   "outputs": [
    {
     "name": "stderr",
     "output_type": "stream",
     "text": [
      "2024-03-08 10:50:12,205 : INFO : Index(['站点编号', '时间', '气压(Pa）', '相对湿度（%）', '云量', '10米风速（10m/s）', '10米风向（°)',\n",
      "       '温度（K）', '辐照强度（J/m2）', '降水（m）', '100m风速（100m/s）', '100m风向（°)'],\n",
      "      dtype='object')\n"
     ]
    }
   ],
   "source": [
    "logging.info(df_test.columns)"
   ]
  },
  {
   "cell_type": "markdown",
   "metadata": {},
   "source": [
    "<h2>特征工程</h2>"
   ]
  },
  {
   "cell_type": "markdown",
   "metadata": {},
   "source": [
    "<h3>合并数据</h3>"
   ]
  },
  {
   "cell_type": "code",
   "execution_count": 181,
   "metadata": {
    "ExecuteTime": {
     "end_time": "2024-03-08T02:50:12.347774Z",
     "start_time": "2024-03-08T02:50:12.220803Z"
    }
   },
   "outputs": [],
   "source": [
    "df = pd.concat([df_train, df_test])\n",
    "df = df.merge(add_df[['站点编号', '装机容量(MW)']], on='站点编号', how='left')\n",
    "\n",
    "df[\"站点编号_\"] = df[\"站点编号\"].copy()\n",
    "df = pd.get_dummies(df, columns=[\"站点编号_\"], prefix_sep=\"\")"
   ]
  },
  {
   "cell_type": "markdown",
   "metadata": {},
   "source": [
    "<h3>处理空值</h3>"
   ]
  },
  {
   "cell_type": "code",
   "execution_count": 182,
   "metadata": {
    "ExecuteTime": {
     "end_time": "2024-03-08T02:50:12.379775Z",
     "start_time": "2024-03-08T02:50:12.348775Z"
    }
   },
   "outputs": [],
   "source": [
    "df = df.replace(\"<NULL>\", np.nan)"
   ]
  },
  {
   "cell_type": "markdown",
   "metadata": {},
   "source": [
    "<h3>时间特征</h3>"
   ]
  },
  {
   "cell_type": "code",
   "execution_count": 183,
   "metadata": {
    "ExecuteTime": {
     "end_time": "2024-03-08T02:50:12.553775Z",
     "start_time": "2024-03-08T02:50:12.380775Z"
    }
   },
   "outputs": [],
   "source": [
    "df['time'] = pd.to_datetime(df['时间'])\n",
    "df['hour'] = df['time'].dt.hour\n",
    "df['month'] = df['time'].dt.month\n",
    "df[\"day\"] = df[\"time\"].dt.day\n",
    "df['minute'] = (df['time'].dt.minute + df[\"time\"].dt.hour * 60) // 15"
   ]
  },
  {
   "cell_type": "markdown",
   "metadata": {},
   "source": [
    "<h3>标签标准化</h3>"
   ]
  },
  {
   "cell_type": "code",
   "execution_count": 184,
   "metadata": {
    "ExecuteTime": {
     "end_time": "2024-03-08T02:50:12.601081Z",
     "start_time": "2024-03-08T02:50:12.554775Z"
    }
   },
   "outputs": [],
   "source": [
    "df[\"出力(MW)\"] = df[\"出力(MW)\"].astype(np.float32) / df[\"装机容量(MW)\"]"
   ]
  },
  {
   "cell_type": "markdown",
   "metadata": {},
   "source": [
    "<h3>特征和标签</h3>"
   ]
  },
  {
   "cell_type": "code",
   "execution_count": 185,
   "metadata": {
    "ExecuteTime": {
     "end_time": "2024-03-08T02:50:12.616942Z",
     "start_time": "2024-03-08T02:50:12.603718Z"
    }
   },
   "outputs": [],
   "source": [
    "LABEL = '出力(MW)'\n",
    "feats = [x for x in df.columns if x not in [LABEL, '时间', 'time',  '站点编号', \"day\", \"minute\"]]"
   ]
  },
  {
   "cell_type": "markdown",
   "metadata": {},
   "source": [
    "<h3>历史值特征</h3>"
   ]
  },
  {
   "cell_type": "code",
   "execution_count": 186,
   "metadata": {
    "ExecuteTime": {
     "end_time": "2024-03-08T02:50:12.632943Z",
     "start_time": "2024-03-08T02:50:12.619945Z"
    }
   },
   "outputs": [],
   "source": [
    "# df_sites = []\n",
    "# for site, df_site in df.groupby(\"站点编号\"):\n",
    "#     df_site[\"10米风速（10m/s） - 1\"] = df_site[\"10米风速（10m/s）\"].shift(1)\n",
    "#     df_site[\"100m风速（100m/s） - 1\"] = df_site[\"100m风速（100m/s）\"].shift(1)\n",
    "#     df_site[\"10米风向（°) - 1\"] = df_site[\"10米风向（°)\"].shift(1)\n",
    "#     df_site[\"100m风向（°) - 1\"] = df_site[\"100m风向（°)\"].shift(1)\n",
    "#     df_site[\"10米风速（10m/s） - 2\"] = df_site[\"10米风速（10m/s）\"].shift(2)\n",
    "#     df_site[\"100m风速（100m/s） - 2\"] = df_site[\"100m风速（100m/s）\"].shift(2)\n",
    "#     df_site[\"10米风向（°) - 2\"] = df_site[\"10米风向（°)\"].shift(2)\n",
    "#     df_site[\"100m风向（°) - 2\"] = df_site[\"100m风向（°)\"].shift(2)\n",
    "#     df_sites.append(df_site)\n",
    "# df = pd.concat(df_sites)"
   ]
  },
  {
   "cell_type": "markdown",
   "metadata": {},
   "source": [
    "<h3>处理空值</h3>"
   ]
  },
  {
   "cell_type": "code",
   "execution_count": 187,
   "metadata": {
    "ExecuteTime": {
     "end_time": "2024-03-08T02:50:12.743365Z",
     "start_time": "2024-03-08T02:50:12.635945Z"
    }
   },
   "outputs": [],
   "source": [
    "df_train = df[df[LABEL].notna()]\n",
    "df_test = df[df[\"time\"] >= \"2023-5-1 0:00\"].reset_index(drop=True)\n",
    "\n",
    "df_train = df_train[df_train[LABEL].notnull()].reset_index(drop=True)\n",
    "df_train[LABEL] = df_train[LABEL].astype('float32')"
   ]
  },
  {
   "cell_type": "markdown",
   "metadata": {},
   "source": [
    "<h2>建立模型</h2>"
   ]
  },
  {
   "cell_type": "markdown",
   "metadata": {},
   "source": [
    "<h3>lightgbm</h3>"
   ]
  },
  {
   "cell_type": "code",
   "execution_count": 188,
   "metadata": {
    "ExecuteTime": {
     "end_time": "2024-03-08T02:50:12.758365Z",
     "start_time": "2024-03-08T02:50:12.744366Z"
    }
   },
   "outputs": [],
   "source": [
    "params_lgb = {\n",
    "    'learning_rate': 0.02,\n",
    "    'boosting_type': 'gbdt',\n",
    "    'objective': 'mse',\n",
    "    'metric': 'mse',\n",
    "    'num_leaves': 64,\n",
    "    'verbose': -1,\n",
    "    'seed': 2,\n",
    "    'n_jobs': -1,\n",
    "\n",
    "    'feature_fraction': 0.8,\n",
    "    'bagging_fraction': 0.9,\n",
    "    'bagging_freq': 4,\n",
    "}\n",
    "\n",
    "importance = 0\n",
    "MODEL_TYPE = 'lgb'"
   ]
  },
  {
   "cell_type": "code",
   "execution_count": 189,
   "metadata": {
    "ExecuteTime": {
     "end_time": "2024-03-08T02:50:12.805866Z",
     "start_time": "2024-03-08T02:50:12.759367Z"
    }
   },
   "outputs": [],
   "source": [
    "sub_train_df = df_train[df_train['time'] < '2023-02-01 0:0:0']\n",
    "sub_val_df = df_train[df_train['time'] >= '2023-02-01 0:0:0']\n",
    "\n",
    "train = Dataset(sub_train_df[feats], sub_train_df[LABEL])\n",
    "val = Dataset(sub_val_df[feats], sub_val_df[LABEL])"
   ]
  },
  {
   "cell_type": "code",
   "execution_count": 190,
   "metadata": {
    "ExecuteTime": {
     "end_time": "2024-03-08T02:50:16.186678Z",
     "start_time": "2024-03-08T02:50:12.807866Z"
    }
   },
   "outputs": [
    {
     "name": "stdout",
     "output_type": "stream",
     "text": [
      "Training until validation scores don't improve for 100 rounds\n",
      "[100]\ttraining's l2: 0.0189468\tvalid_1's l2: 0.0261925\n",
      "[200]\ttraining's l2: 0.01515\tvalid_1's l2: 0.0240831\n",
      "[300]\ttraining's l2: 0.0134855\tvalid_1's l2: 0.0239338\n"
     ]
    },
    {
     "name": "stderr",
     "output_type": "stream",
     "text": [
      "2024-03-08 10:50:16,176 : INFO : 分数: 0.8660683898901006 RMSE: 0.15464322641644337\n"
     ]
    },
    {
     "name": "stdout",
     "output_type": "stream",
     "text": [
      "Early stopping, best iteration is:\n",
      "[269]\ttraining's l2: 0.0139254\tvalid_1's l2: 0.0239145\n"
     ]
    }
   ],
   "source": [
    "model = lgb.train(params_lgb, train, valid_sets=[train, val], num_boost_round=5000, callbacks=[lgb.early_stopping(100), lgb.log_evaluation(100)])\n",
    "\n",
    "val_pred = model.predict(sub_val_df[feats])\n",
    "\n",
    "s_mse = mse(sub_val_df[LABEL], val_pred, squared=False)\n",
    "score = 1 / (1+s_mse)\n",
    "logging.info(f\"分数: {score} RMSE: {s_mse}\")"
   ]
  },
  {
   "cell_type": "code",
   "execution_count": 191,
   "metadata": {
    "ExecuteTime": {
     "end_time": "2024-03-08T02:50:16.297679Z",
     "start_time": "2024-03-08T02:50:16.187679Z"
    }
   },
   "outputs": [
    {
     "name": "stderr",
     "output_type": "stream",
     "text": [
      "2024-03-08 10:50:16,191 : INFO :               name     importance\n",
      "8   100m风速（100m/s）  197507.064482\n",
      "3     10米风速（10m/s）   57775.200943\n",
      "9        100m风向（°)   15942.745340\n",
      "10        装机容量(MW)    7706.060523\n",
      "7            降水（m）    5174.229684\n",
      "0           气压(Pa）    5161.650191\n",
      "4         10米风向（°)    4858.280157\n",
      "5            温度（K）    4683.773866\n",
      "17           month    4003.917555\n",
      "11         站点编号_f1    3459.484464\n",
      "1          相对湿度（%）    2209.459992\n",
      "2               云量    1893.343457\n",
      "15         站点编号_f5    1840.289385\n",
      "13         站点编号_f3    1742.805825\n",
      "6       辐照强度（J/m2）    1337.286047\n",
      "16            hour    1298.692364\n",
      "12         站点编号_f2     951.876592\n",
      "14         站点编号_f4     655.329813\n"
     ]
    },
    {
     "data": {
      "image/png": "[encoded data removed]",
      "text/plain": [
       "<Figure size 432x288 with 1 Axes>"
      ]
     },
     "metadata": {
      "needs_background": "light"
     },
     "output_type": "display_data"
    }
   ],
   "source": [
    "importance += model.feature_importance(importance_type='gain')\n",
    "feats_importance = pd.DataFrame()\n",
    "feats_importance['name'] = feats\n",
    "feats_importance['importance'] = importance\n",
    "logging.info(feats_importance.sort_values('importance', ascending=False)[:30])\n",
    "\n",
    "plot(sub_val_df[LABEL].values)\n",
    "plot(val_pred)\n",
    "show()"
   ]
  },
  {
   "cell_type": "code",
   "execution_count": 192,
   "metadata": {
    "ExecuteTime": {
     "end_time": "2024-03-08T02:50:18.964555Z",
     "start_time": "2024-03-08T02:50:16.298679Z"
    }
   },
   "outputs": [
    {
     "data": {
      "text/plain": [
       "<lightgbm.basic.Booster at 0x28bc5e60630>"
      ]
     },
     "execution_count": 192,
     "metadata": {},
     "output_type": "execute_result"
    }
   ],
   "source": [
    "model = lgb.train(params_lgb, lgb.Dataset(df_train[feats], df_train[LABEL]), num_boost_round=model.best_iteration)\n",
    "model.save_model(\"../models/lightgbm.txt\")"
   ]
  },
  {
   "cell_type": "markdown",
   "metadata": {},
   "source": [
    "<h2>预测</h2>"
   ]
  },
  {
   "cell_type": "code",
   "execution_count": 193,
   "metadata": {
    "ExecuteTime": {
     "end_time": "2024-03-08T02:50:19.122555Z",
     "start_time": "2024-03-08T02:50:18.965556Z"
    }
   },
   "outputs": [],
   "source": [
    "pred_y = model.predict(df_test[feats])\n",
    "\n",
    "df_test[LABEL] = pred_y * df_test[\"装机容量(MW)\"]\n",
    "\n",
    "df_test[['站点编号','时间','出力(MW)']].to_csv(\"../data/%s.csv\" % datetime.now().strftime(\"%Y%m%d_%H%M%S\"), encoding=\"utf-8\", index=False)"
   ]
  },
  {
   "cell_type": "code",
   "execution_count": null,
   "metadata": {},
   "outputs": [],
   "source": []
  }
 ],
 "metadata": {
  "kernelspec": {
   "display_name": "Python 3",
   "language": "python",
   "name": "python3"
  },
  "language_info": {
   "codemirror_mode": {
    "name": "ipython",
    "version": 3
   },
   "file_extension": ".py",
   "mimetype": "text/x-python",
   "name": "python",
   "nbconvert_exporter": "python",
   "pygments_lexer": "ipython3",
   "version": "3.7.3"
  },
  "toc": {
   "base_numbering": 1,
   "nav_menu": {},
   "number_sections": true,
   "sideBar": true,
   "skip_h1_title": false,
   "title_cell": "Table of Contents",
   "title_sidebar": "Contents",
   "toc_cell": false,
   "toc_position": {},
   "toc_section_display": true,
   "toc_window_display": true
  },
  "varInspector": {
   "cols": {
    "lenName": 16,
    "lenType": 16,
    "lenVar": 40
   },
   "kernels_config": {
    "python": {
     "delete_cmd_postfix": "",
     "delete_cmd_prefix": "del ",
     "library": "var_list.py",
     "varRefreshCmd": "print(var_dic_list())"
    },
    "r": {
     "delete_cmd_postfix": ") ",
     "delete_cmd_prefix": "rm(",
     "library": "var_list.r",
     "varRefreshCmd": "cat(var_dic_list()) "
    }
   },
   "types_to_exclude": [
    "module",
    "function",
    "builtin_function_or_method",
    "instance",
    "_Feature"
   ],
   "window_display": false
  }
 },
 "nbformat": 4,
 "nbformat_minor": 4
}
