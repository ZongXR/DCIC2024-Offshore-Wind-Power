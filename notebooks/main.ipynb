{
 "cells": [
  {
   "cell_type": "markdown",
   "metadata": {},
   "source": [
    "<h2>导入包</h2>"
   ]
  },
  {
   "cell_type": "code",
   "execution_count": 89,
   "metadata": {
    "ExecuteTime": {
     "end_time": "2024-03-08T02:24:25.381061Z",
     "start_time": "2024-03-08T02:24:25.362115Z"
    }
   },
   "outputs": [],
   "source": [
    "import logging \n",
    "from datetime import datetime\n",
    "import pandas as pd\n",
    "import numpy as np\n",
    "from sklearn.metrics import mean_squared_error as mse\n",
    "from sklearn.model_selection import StratifiedKFold, KFold\n",
    "from sklearn.preprocessing import OneHotEncoder\n",
    "from matplotlib.pyplot import plot, show, title\n",
    "import lightgbm as lgb\n",
    "from lightgbm import Dataset\n",
    "\n",
    "\n",
    "logging.basicConfig(format='%(asctime)s : %(levelname)s : %(message)s', level=logging.INFO)"
   ]
  },
  {
   "cell_type": "markdown",
   "metadata": {},
   "source": [
    "<h2>读取数据</h2>"
   ]
  },
  {
   "cell_type": "code",
   "execution_count": 90,
   "metadata": {
    "ExecuteTime": {
     "end_time": "2024-03-08T02:24:25.604061Z",
     "start_time": "2024-03-08T02:24:25.383062Z"
    }
   },
   "outputs": [],
   "source": [
    "df_train = pd.read_csv('../data/A榜-训练集_海上风电预测_气象变量及实际功率数据.csv', encoding='gbk')\n",
    "df_test = pd.read_csv('../data/A榜-测试集_海上风电预测_气象变量数据.csv', encoding='gbk')\n",
    "\n",
    "add_df = pd.read_csv('../data/A榜-训练集_海上风电预测_基本信息.csv', encoding='gbk')\n",
    "# add_df = pd.read_csv('../data/A榜-训练集_海上风电预测_基本信息.csv')"
   ]
  },
  {
   "cell_type": "code",
   "execution_count": 91,
   "metadata": {
    "ExecuteTime": {
     "end_time": "2024-03-08T02:24:25.620075Z",
     "start_time": "2024-03-08T02:24:25.605061Z"
    }
   },
   "outputs": [
    {
     "name": "stderr",
     "output_type": "stream",
     "text": [
      "2024-03-08 10:24:25,605 : INFO : Index(['站点编号', '时间', '气压(Pa）', '相对湿度（%）', '云量', '10米风速（10m/s）', '10米风向（°)',\n",
      "       '温度（K）', '辐照强度（J/m2）', '降水（m）', '100m风速（100m/s）', '100m风向（°)'],\n",
      "      dtype='object')\n"
     ]
    }
   ],
   "source": [
    "logging.info(df_test.columns)"
   ]
  },
  {
   "cell_type": "markdown",
   "metadata": {},
   "source": [
    "<h2>特征工程</h2>"
   ]
  },
  {
   "cell_type": "markdown",
   "metadata": {},
   "source": [
    "<h3>时间特征</h3>"
   ]
  },
  {
   "cell_type": "code",
   "execution_count": 92,
   "metadata": {
    "ExecuteTime": {
     "end_time": "2024-03-08T02:24:25.779075Z",
     "start_time": "2024-03-08T02:24:25.622075Z"
    }
   },
   "outputs": [],
   "source": [
    "df = pd.concat([df_train, df_test])\n",
    "df = df.merge(add_df[['站点编号', '装机容量(MW)']], on='站点编号', how='left')\n",
    "\n",
    "df[\"站点编号_\"] = df[\"站点编号\"].copy()\n",
    "df = pd.get_dummies(df, columns=[\"站点编号_\"], prefix_sep=\"\")\n",
    "\n",
    "df['time'] = pd.to_datetime(df['时间'])\n",
    "df['hour'] = df['time'].dt.hour\n",
    "df['month'] = df['time'].dt.month\n",
    "df['min'] = df['time'].dt.minute\n",
    "\n",
    "LABEL = '出力(MW)'\n",
    "feats = [x for x in df.columns if x not in [LABEL, '时间', 'time',  '站点编号', 'min']]"
   ]
  },
  {
   "cell_type": "markdown",
   "metadata": {},
   "source": [
    "<h3>历史值特征</h3>"
   ]
  },
  {
   "cell_type": "code",
   "execution_count": 93,
   "metadata": {
    "ExecuteTime": {
     "end_time": "2024-03-08T02:24:25.795075Z",
     "start_time": "2024-03-08T02:24:25.780076Z"
    }
   },
   "outputs": [],
   "source": [
    "# df_sites = []\n",
    "# for site, df_site in df.groupby(\"站点编号\"):\n",
    "#     df_site[\"10米风速（10m/s） - 1\"] = df_site[\"10米风速（10m/s）\"].shift(1)\n",
    "#     df_site[\"100m风速（100m/s） - 1\"] = df_site[\"100m风速（100m/s）\"].shift(1)\n",
    "#     df_site[\"10米风向（°) - 1\"] = df_site[\"10米风向（°)\"].shift(1)\n",
    "#     df_site[\"100m风向（°) - 1\"] = df_site[\"100m风向（°)\"].shift(1)\n",
    "#     df_site[\"10米风速（10m/s） - 2\"] = df_site[\"10米风速（10m/s）\"].shift(2)\n",
    "#     df_site[\"100m风速（100m/s） - 2\"] = df_site[\"100m风速（100m/s）\"].shift(2)\n",
    "#     df_site[\"10米风向（°) - 2\"] = df_site[\"10米风向（°)\"].shift(2)\n",
    "#     df_site[\"100m风向（°) - 2\"] = df_site[\"100m风向（°)\"].shift(2)\n",
    "#     df_sites.append(df_site)\n",
    "# df = pd.concat(df_sites)"
   ]
  },
  {
   "cell_type": "markdown",
   "metadata": {},
   "source": [
    "<h3>处理空值</h3>"
   ]
  },
  {
   "cell_type": "code",
   "execution_count": 94,
   "metadata": {
    "ExecuteTime": {
     "end_time": "2024-03-08T02:24:25.875075Z",
     "start_time": "2024-03-08T02:24:25.796075Z"
    }
   },
   "outputs": [],
   "source": [
    "df_train = df[df[LABEL].notna()]\n",
    "df_test = df[df[LABEL].isna()].reset_index(drop=True)\n",
    "\n",
    "df_train = df_train[df_train[LABEL] != '<NULL>'].reset_index(drop=True)\n",
    "df_train[LABEL] = df_train[LABEL].astype('float32')"
   ]
  },
  {
   "cell_type": "markdown",
   "metadata": {},
   "source": [
    "<h2>建立模型</h2>"
   ]
  },
  {
   "cell_type": "markdown",
   "metadata": {},
   "source": [
    "<h3>lightgbm</h3>"
   ]
  },
  {
   "cell_type": "code",
   "execution_count": 95,
   "metadata": {
    "ExecuteTime": {
     "end_time": "2024-03-08T02:24:25.891075Z",
     "start_time": "2024-03-08T02:24:25.876076Z"
    }
   },
   "outputs": [],
   "source": [
    "params_lgb = {\n",
    "    'learning_rate': 0.02,\n",
    "    'boosting_type': 'gbdt',\n",
    "    'objective': 'mse',\n",
    "    'metric': 'mse',\n",
    "    'num_leaves': 64,\n",
    "    'verbose': -1,\n",
    "    'seed': 2,\n",
    "    'n_jobs': -1,\n",
    "\n",
    "    'feature_fraction': 0.8,\n",
    "    'bagging_fraction': 0.9,\n",
    "    'bagging_freq': 4,\n",
    "}\n",
    "\n",
    "importance = 0\n",
    "MODEL_TYPE = 'lgb'"
   ]
  },
  {
   "cell_type": "code",
   "execution_count": 96,
   "metadata": {
    "ExecuteTime": {
     "end_time": "2024-03-08T02:24:25.923075Z",
     "start_time": "2024-03-08T02:24:25.894076Z"
    }
   },
   "outputs": [],
   "source": [
    "sub_train_df = df_train[df_train['time'] < '2023-02-01 0:0:0']\n",
    "sub_val_df = df_train[df_train['time'] >= '2023-02-01 0:0:0']\n",
    "\n",
    "train = Dataset(sub_train_df[feats], sub_train_df[LABEL])\n",
    "val = Dataset(sub_val_df[feats], sub_val_df[LABEL])"
   ]
  },
  {
   "cell_type": "code",
   "execution_count": 97,
   "metadata": {
    "ExecuteTime": {
     "end_time": "2024-03-08T02:24:26.993227Z",
     "start_time": "2024-03-08T02:24:25.924075Z"
    }
   },
   "outputs": [
    {
     "name": "stdout",
     "output_type": "stream",
     "text": [
      "Training until validation scores don't improve for 100 rounds\n",
      "[100]\ttraining's l2: 372.528\tvalid_1's l2: 513.653\n",
      "[200]\ttraining's l2: 236.783\tvalid_1's l2: 433.794\n",
      "[300]\ttraining's l2: 199.333\tvalid_1's l2: 432.313\n",
      "Early stopping, best iteration is:\n",
      "[260]\ttraining's l2: 211.35\tvalid_1's l2: 431.531\n"
     ]
    },
    {
     "name": "stderr",
     "output_type": "stream",
     "text": [
      "2024-03-08 10:24:26,981 : INFO : 分数: 0.04592776026457693 RMSE: 20.773323894726868\n"
     ]
    }
   ],
   "source": [
    "model = lgb.train(params_lgb, train, valid_sets=[train, val], num_boost_round=5000, callbacks=[lgb.early_stopping(100), lgb.log_evaluation(100)])\n",
    "\n",
    "val_pred = model.predict(sub_val_df[feats])\n",
    "\n",
    "s_mse = mse(sub_val_df[LABEL], val_pred, squared=False)\n",
    "score = 1 / (1+s_mse)\n",
    "logging.info(f\"分数: {score} RMSE: {s_mse}\")"
   ]
  },
  {
   "cell_type": "code",
   "execution_count": 98,
   "metadata": {
    "ExecuteTime": {
     "end_time": "2024-03-08T02:24:27.073227Z",
     "start_time": "2024-03-08T02:24:26.994227Z"
    }
   },
   "outputs": [
    {
     "name": "stderr",
     "output_type": "stream",
     "text": [
      "2024-03-08 10:24:26,997 : INFO :               name    importance\n",
      "10        装机容量(MW)  5.889034e+09\n",
      "3     10米风速（10m/s）  5.139952e+09\n",
      "8   100m风速（100m/s）  2.211206e+09\n",
      "12         站点编号_f2  7.675564e+08\n",
      "4         10米风向（°)  3.920324e+08\n",
      "7            降水（m）  2.294313e+08\n",
      "0           气压(Pa）  2.136773e+08\n",
      "5            温度（K）  1.791308e+08\n",
      "9        100m风向（°)  1.616921e+08\n",
      "15         站点编号_f5  1.467801e+08\n",
      "1          相对湿度（%）  1.087681e+08\n",
      "17           month  1.049789e+08\n",
      "11         站点编号_f1  8.505586e+07\n",
      "14         站点编号_f4  7.382495e+07\n",
      "16            hour  6.747432e+07\n",
      "2               云量  6.113720e+07\n",
      "6       辐照强度（J/m2）  3.800671e+07\n",
      "13         站点编号_f3  3.655861e+07\n"
     ]
    },
    {
     "data": {
      "image/png": "[encoded data removed]",
      "text/plain": [
       "<Figure size 432x288 with 1 Axes>"
      ]
     },
     "metadata": {
      "needs_background": "light"
     },
     "output_type": "display_data"
    }
   ],
   "source": [
    "importance += model.feature_importance(importance_type='gain')\n",
    "feats_importance = pd.DataFrame()\n",
    "feats_importance['name'] = feats\n",
    "feats_importance['importance'] = importance\n",
    "logging.info(feats_importance.sort_values('importance', ascending=False)[:30])\n",
    "\n",
    "plot(sub_val_df[LABEL].values)\n",
    "plot(val_pred)\n",
    "show()"
   ]
  },
  {
   "cell_type": "code",
   "execution_count": 99,
   "metadata": {
    "ExecuteTime": {
     "end_time": "2024-03-08T02:24:27.983512Z",
     "start_time": "2024-03-08T02:24:27.074228Z"
    }
   },
   "outputs": [
    {
     "data": {
      "text/plain": [
       "<lightgbm.basic.Booster at 0x28c08f6d630>"
      ]
     },
     "execution_count": 99,
     "metadata": {},
     "output_type": "execute_result"
    }
   ],
   "source": [
    "model = lgb.train(params_lgb, lgb.Dataset(df_train[feats], df_train[LABEL]), num_boost_round=model.best_iteration)\n",
    "model.save_model(\"../models/lightgbm.txt\")"
   ]
  },
  {
   "cell_type": "markdown",
   "metadata": {},
   "source": [
    "<h2>预测</h2>"
   ]
  },
  {
   "cell_type": "code",
   "execution_count": 100,
   "metadata": {
    "ExecuteTime": {
     "end_time": "2024-03-08T02:24:28.110513Z",
     "start_time": "2024-03-08T02:24:27.984512Z"
    }
   },
   "outputs": [],
   "source": [
    "pred_y = model.predict(df_test[feats])\n",
    "\n",
    "df_test[LABEL] = pred_y\n",
    "\n",
    "df_test[['站点编号','时间','出力(MW)']].to_csv(\"../data/%s.csv\" % datetime.now().strftime(\"%Y%m%d_%H%M%S\"), encoding=\"utf-8\", index=False)"
   ]
  },
  {
   "cell_type": "code",
   "execution_count": null,
   "metadata": {},
   "outputs": [],
   "source": []
  }
 ],
 "metadata": {
  "kernelspec": {
   "display_name": "Python 3",
   "language": "python",
   "name": "python3"
  },
  "language_info": {
   "codemirror_mode": {
    "name": "ipython",
    "version": 3
   },
   "file_extension": ".py",
   "mimetype": "text/x-python",
   "name": "python",
   "nbconvert_exporter": "python",
   "pygments_lexer": "ipython3",
   "version": "3.7.3"
  },
  "toc": {
   "base_numbering": 1,
   "nav_menu": {},
   "number_sections": true,
   "sideBar": true,
   "skip_h1_title": false,
   "title_cell": "Table of Contents",
   "title_sidebar": "Contents",
   "toc_cell": false,
   "toc_position": {},
   "toc_section_display": true,
   "toc_window_display": true
  },
  "varInspector": {
   "cols": {
    "lenName": 16,
    "lenType": 16,
    "lenVar": 40
   },
   "kernels_config": {
    "python": {
     "delete_cmd_postfix": "",
     "delete_cmd_prefix": "del ",
     "library": "var_list.py",
     "varRefreshCmd": "print(var_dic_list())"
    },
    "r": {
     "delete_cmd_postfix": ") ",
     "delete_cmd_prefix": "rm(",
     "library": "var_list.r",
     "varRefreshCmd": "cat(var_dic_list()) "
    }
   },
   "types_to_exclude": [
    "module",
    "function",
    "builtin_function_or_method",
    "instance",
    "_Feature"
   ],
   "window_display": false
  }
 },
 "nbformat": 4,
 "nbformat_minor": 4
}
